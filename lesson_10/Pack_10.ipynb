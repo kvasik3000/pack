{
  "nbformat": 4,
  "nbformat_minor": 0,
  "metadata": {
    "colab": {
      "provenance": []
    },
    "kernelspec": {
      "name": "python3",
      "display_name": "Python 3"
    },
    "language_info": {
      "name": "python"
    }
  },
  "cells": [
    {
      "cell_type": "markdown",
      "source": [
        "# Task 1"
      ],
      "metadata": {
        "id": "iQhlkMv6QOON"
      }
    },
    {
      "cell_type": "code",
      "execution_count": 118,
      "metadata": {
        "id": "DFpbVY0tLAcD"
      },
      "outputs": [],
      "source": [
        "import numpy as np\n"
      ]
    },
    {
      "cell_type": "code",
      "source": [
        "def Relu(k):\n",
        "  \n",
        "  for i in k:\n",
        "    i = np.maximum(0,i)\n",
        "  return k"
      ],
      "metadata": {
        "id": "t9nOdh0lChEJ"
      },
      "execution_count": 119,
      "outputs": []
    },
    {
      "cell_type": "code",
      "source": [
        "def Softmax(k):\n",
        "  exps = [np.exp(i) for i in k]\n",
        "  summ = np.sum(exps)\n",
        "  \n",
        "  soft = np.array([i/summ for i in exps])\n",
        "  # print(soft)\n",
        "  return soft"
      ],
      "metadata": {
        "id": "FaNLt6hDCmfU"
      },
      "execution_count": 120,
      "outputs": []
    },
    {
      "cell_type": "code",
      "source": [
        "def tanh(k):\n",
        "  for i in k:\n",
        "    # print(\"-------------\")\n",
        "    # print(i)\n",
        "    \n",
        "    i = (2/(1 + np.exp(-2*int(i))))-1\n",
        "    # print(i)\n",
        "    # print(\"-------------\")\n",
        "  return k"
      ],
      "metadata": {
        "id": "hLCLI1a6CsWL"
      },
      "execution_count": 121,
      "outputs": []
    },
    {
      "cell_type": "code",
      "source": [
        "class Layer():\n",
        "\n",
        "  def __init__(self, inputs, outputs, function):\n",
        "    self.x,self.y = inputs\n",
        "    self.n,self.k = outputs\n",
        "    self.inputs = inputs\n",
        "    self.outputs = outputs\n",
        "    self.function = function\n",
        "  \n",
        "  def forward(self, matrix):\n",
        "    matrix_w = np.random.uniform(-1,1,(self.y,self.k))\n",
        "    result = np.dot(matrix,matrix_w)\n",
        "    # print(result)\n",
        "    return self.function(result)\n",
        "  \n",
        "\n",
        "\n"
      ],
      "metadata": {
        "id": "MZ35wTAYM7GC"
      },
      "execution_count": 122,
      "outputs": []
    },
    {
      "cell_type": "code",
      "source": [
        "class Model():\n",
        "  \n",
        "  def __init__(self):\n",
        "    layer1 = Layer((1,256),(1,64),Relu)\n",
        "    layer2 = Layer((1,64),(1,16), tanh)\n",
        "    layer3 = Layer((1,16),(1,4), Softmax)\n",
        "    \n",
        "    self.layers = [layer1,layer2,layer3]\n",
        "\n",
        "\n",
        "  def count(self, matrix):\n",
        "    for layer in self.layers:\n",
        "      matrix = layer.forward(matrix)\n",
        "      \n",
        "    \n",
        "    return matrix\n",
        "\n",
        "  def __call__(self, data):\n",
        "        res = data\n",
        "        for layer in self.layers:\n",
        "            res = layer.forward(res)\n",
        "        return res\n"
      ],
      "metadata": {
        "id": "h5I0XDLPLFgQ"
      },
      "execution_count": 123,
      "outputs": []
    },
    {
      "cell_type": "code",
      "source": [
        "model = Model()\n",
        "X = np.random.uniform(-1,1, 256)\n",
        "\n",
        "model.count(X)\n",
        "# print(X.shape)"
      ],
      "metadata": {
        "colab": {
          "base_uri": "https://localhost:8080/"
        },
        "id": "4XzMGmuXH4Px",
        "outputId": "0ba0e5a0-9842-4577-8a06-a8feb3546823"
      },
      "execution_count": 124,
      "outputs": [
        {
          "output_type": "execute_result",
          "data": {
            "text/plain": [
              "array([9.26361270e-08, 2.12364318e-35, 2.41337449e-18, 9.99999907e-01])"
            ]
          },
          "metadata": {},
          "execution_count": 124
        }
      ]
    },
    {
      "cell_type": "markdown",
      "source": [
        "# Task 2"
      ],
      "metadata": {
        "id": "dwZPgoGgCIzt"
      }
    },
    {
      "cell_type": "code",
      "source": [
        "def MaxPool(matrix,l_in,l_out):\n",
        "  res_ret = []\n",
        "  step_stb = 0\n",
        "  step_str = 0\n",
        "  for flow in range(0,l_in):\n",
        "      step_stb = 0\n",
        "      step_str = 0\n",
        "      mtx_res = []\n",
        "      while (step_str < len(matrix)-1):\n",
        "        k = 0\n",
        "        mtx = matrix[:,:,flow]\n",
        "        mat_res = []\n",
        "        new_arr = []\n",
        "        for i in range(step_stb,step_stb + 2):\n",
        "          for j in range(step_str,step_str + 2):\n",
        "            mat_res = np.append(mat_res,mtx[i][j])\n",
        "        k = np.amax(mat_res)\n",
        "        # print(k)\n",
        "        # print(\"----\")\n",
        "        mtx_res = np.append(mtx_res,k)\n",
        "        # print(mtx_res)\n",
        "        # print(\"--------\")\n",
        "        \n",
        "        step_stb+=2\n",
        "        if step_stb >= len(matrix)-1:\n",
        "          step_stb = 0\n",
        "          step_str+=2\n",
        "\n",
        "      mtx_res = mtx_res.reshape(int(len(matrix)/2),int(len(matrix)/2))\n",
        "      # print(mtx_res)\n",
        "      res_ret.append(mtx_res)\n",
        "  # mat_res = mat_res.reshape(int(len(matrix)/2),int(len(matrix)/2)).astype(np.int32)\n",
        "  return np.transpose(res_ret,axes=[1,2,0])\n",
        "\n"
      ],
      "metadata": {
        "id": "Jf8rqHD9Lvlu"
      },
      "execution_count": 125,
      "outputs": []
    },
    {
      "cell_type": "code",
      "source": [
        "# x = np.random.uniform(-1,1,size=(4,4,3))\n",
        "# # print(x)\n",
        "# # print()\n",
        "# res = MaxPool(x,3,3)\n",
        "# print(np.shape(res))\n",
        "# res"
      ],
      "metadata": {
        "id": "9XwcReWk7fLe"
      },
      "execution_count": 132,
      "outputs": []
    },
    {
      "cell_type": "code",
      "source": [
        "def sup_conv(matrix,layer_in,kernel):\n",
        "  step_stb = 0\n",
        "  step_str = 0\n",
        "  lenght = (len(matrix)-len(kernel)) + 1\n",
        "  new_matrix = []\n",
        "  while (step_str < lenght):\n",
        "    summ = 0\n",
        "    for flow in range(0,layer_in):\n",
        "      step_mtx = []\n",
        "      ker = kernel[:,:,flow]\n",
        "      mat = matrix[:,:,flow]\n",
        "      for i in range(step_stb,step_stb + len(kernel)):\n",
        "        for j in range(step_str,step_str + len(kernel)): \n",
        "          step_mtx = np.append(step_mtx,mat[i][j])\n",
        "      step_mtx = step_mtx.reshape(len(kernel),len(kernel))\n",
        "      mul_mtx = np.dot(ker,step_mtx)\n",
        "      summ += np.sum(mul_mtx)\n",
        "    new_matrix = np.append(new_matrix,summ) \n",
        "    step_stb += 1\n",
        "    if step_stb >= lenght:\n",
        "      step_stb = 0\n",
        "      step_str+=1\n",
        "\n",
        "  new_matrix = new_matrix.reshape(lenght,lenght)\n",
        "  return new_matrix\n",
        "\n",
        "\n",
        "\n",
        "\n",
        "\n",
        "\n"
      ],
      "metadata": {
        "id": "3qkHPD2AILtt"
      },
      "execution_count": 133,
      "outputs": []
    },
    {
      "cell_type": "code",
      "source": [
        "def convolution(matrix,kernel, l_in, out):\n",
        "  new_matrix = []\n",
        "  for i in range(0, out):\n",
        "    res = sup_conv(matrix,l_in,kernel)\n",
        "    new_matrix.append(res)\n",
        "  return np.transpose(new_matrix,axes=[1,2,0])\n"
      ],
      "metadata": {
        "id": "RMxmk3poziMA"
      },
      "execution_count": 134,
      "outputs": []
    },
    {
      "cell_type": "code",
      "source": [
        "class Layer2():\n",
        "\n",
        "  def __init__(self, inputs, outputs, function):\n",
        "    self.x,self.y,self.z = inputs\n",
        "    self.n,self.k,self.h = outputs\n",
        "    self.inputs = inputs\n",
        "    self.outputs = outputs\n",
        "    self.function = function\n",
        "\n",
        "  def forward(self, matrix):\n",
        "    kernel = np.random.uniform(-1,1,size=(2,2,self.z))\n",
        "\n",
        "    if self.function.__name__ == \"MaxPool\":\n",
        "      return self.function(matrix,self.z,self.h)\n",
        "    if self.function.__name__ == \"convolution\":\n",
        "      return self.function(matrix,kernel,self.z,self.h)\n"
      ],
      "metadata": {
        "id": "lb5xOFbHID0g"
      },
      "execution_count": 135,
      "outputs": []
    },
    {
      "cell_type": "code",
      "source": [
        "class Model2():\n",
        "  \n",
        "  def __init__(self):\n",
        "    layer1 = Layer2((19,19,3),(18,18,8),convolution)\n",
        "    layer2 = Layer2((18,18,8),(9,9,8),MaxPool)\n",
        "    layer3 = Layer2((9,9,8),(8,8,16),convolution)\n",
        "    layer4 = Layer2((8,8,16),(4,4,16),MaxPool)\n",
        "    \n",
        "    self.layers = [layer1,layer2,layer3,layer4]\n",
        "\n",
        "\n",
        "  def count(self, matrix):\n",
        "    for layer in self.layers:\n",
        "      print(np.shape(matrix))\n",
        "      matrix = layer.forward(matrix)\n",
        "    return matrix\n",
        "\n",
        "  def __call__(self, data):\n",
        "        res = data\n",
        "        for layer in self.layers:\n",
        "            res = layer.forward(res)\n",
        "        return res"
      ],
      "metadata": {
        "id": "hrcZNNcCaIqb"
      },
      "execution_count": 139,
      "outputs": []
    },
    {
      "cell_type": "code",
      "source": [
        "model = Model2()\n",
        "X = np.random.uniform(-1,1,size=(19,19,3))\n",
        "# kernel = np.random.randint(-1,1,size=(2,2,3))\n",
        "res=model.count(X)\n",
        "\n",
        "# print(res)\n",
        "np.shape(res)"
      ],
      "metadata": {
        "colab": {
          "base_uri": "https://localhost:8080/"
        },
        "id": "vd3c2fPM42Ma",
        "outputId": "533b7840-aa47-483d-aeb1-5eff570f93b3"
      },
      "execution_count": 140,
      "outputs": [
        {
          "output_type": "stream",
          "name": "stdout",
          "text": [
            "(19, 19, 3)\n",
            "(18, 18, 8)\n",
            "(9, 9, 8)\n",
            "(8, 8, 16)\n"
          ]
        },
        {
          "output_type": "execute_result",
          "data": {
            "text/plain": [
              "(4, 4, 16)"
            ]
          },
          "metadata": {},
          "execution_count": 140
        }
      ]
    },
    {
      "cell_type": "markdown",
      "source": [
        "# Task 3"
      ],
      "metadata": {
        "id": "Pvfv1EI4N0_5"
      }
    },
    {
      "cell_type": "code",
      "source": [
        "class Model3(Model,Model2):\n",
        "    def __call__(self, data):\n",
        "        model_1 = Model()\n",
        "        model_2 = Model2()\n",
        "        return model_1(np.ravel(model_2(data)))\n"
      ],
      "metadata": {
        "id": "R29XP3it5QDB"
      },
      "execution_count": 141,
      "outputs": []
    },
    {
      "cell_type": "code",
      "source": [
        "X = np.random.uniform(-1,1 ,size=(19, 19, 3))\n",
        "model_3 = Model3()\n",
        "model_3(X)"
      ],
      "metadata": {
        "colab": {
          "base_uri": "https://localhost:8080/"
        },
        "id": "0u1XW0p3QDzb",
        "outputId": "2b6383a4-6473-463d-8fe3-441298dcccc7"
      },
      "execution_count": 150,
      "outputs": [
        {
          "output_type": "stream",
          "name": "stderr",
          "text": [
            "<ipython-input-121-1e5581a792ce>:6: RuntimeWarning: overflow encountered in exp\n",
            "  i = (2/(1 + np.exp(-2*int(i))))-1\n"
          ]
        },
        {
          "output_type": "execute_result",
          "data": {
            "text/plain": [
              "array([6.02711401e-043, 8.33965386e-208, 1.00000000e+000, 1.20124164e-297])"
            ]
          },
          "metadata": {},
          "execution_count": 150
        }
      ]
    },
    {
      "cell_type": "code",
      "source": [],
      "metadata": {
        "id": "tLFZiUZvQQev"
      },
      "execution_count": 144,
      "outputs": []
    }
  ]
}