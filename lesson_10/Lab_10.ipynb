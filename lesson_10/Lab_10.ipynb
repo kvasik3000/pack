{
  "nbformat": 4,
  "nbformat_minor": 0,
  "metadata": {
    "colab": {
      "provenance": []
    },
    "kernelspec": {
      "name": "python3",
      "display_name": "Python 3"
    },
    "language_info": {
      "name": "python"
    }
  },
  "cells": [
    {
      "cell_type": "code",
      "execution_count": 22,
      "metadata": {
        "id": "XXFgZ70Dc0OZ"
      },
      "outputs": [],
      "source": [
        "import numpy as np\n"
      ]
    },
    {
      "cell_type": "code",
      "source": [
        "def sigmoid (x):\n",
        "    return 1/(1 + np.exp(-x))\n",
        "# hidden_layer_activation = np.dot(inputs,hidden_weights)\n",
        "# hidden_layer_activation += hidden_bias\n",
        "# hidden_layer_output = sigmoid(hidden_layer_activation)\n",
        "# output_layer_activation = np.dot(hidden_layer_output,output_weights)\n",
        "# output_layer_activation += output_bias\n",
        "# predicted_output = sigmoid(output_layer_activation)"
      ],
      "metadata": {
        "id": "ZzOCi7L5lvOc"
      },
      "execution_count": 23,
      "outputs": []
    },
    {
      "cell_type": "code",
      "source": [
        "def sigmoid_derivative(x):\n",
        "    return x * (1 - x)"
      ],
      "metadata": {
        "id": "ice4wA8omH7B"
      },
      "execution_count": 24,
      "outputs": []
    },
    {
      "cell_type": "code",
      "source": [
        "class Neuron:\n",
        "  def __init__(self, inputLayerNeurons,hiddenLayerNeurons):\n",
        "    self.w = np.random.uniform(size=(inputLayerNeurons,hiddenLayerNeurons))\n",
        "    self.out = np.random.uniform(size=(1,hiddenLayerNeurons))\n",
        "    self.output = []\n",
        "    self.hi_w = np.random.uniform(size=(inputLayerNeurons,hiddenLayerNeurons))\n",
        "\n",
        "  def forward(self,inp):\n",
        "    \n",
        "    hi_l_activ = np.dot(inp,self.hi_w)\n",
        "    self.output = sigmoid(hi_l_activ)\n",
        "    return self.output\n",
        "  def backward_n(self,inp,loss):\n",
        "    self.w += np.dot(inp,loss)\n",
        "    self.out += np.sum(loss,axis=0,keepdims=True)\n",
        "\n",
        "  \n"
      ],
      "metadata": {
        "id": "97-5-XOwendQ"
      },
      "execution_count": 28,
      "outputs": []
    },
    {
      "cell_type": "code",
      "source": [
        "class Model:\n",
        "  def __init__(self,inp_l,hi_l,out_l):\n",
        "    self.hi_l = Neuron(inp_l,hi_l)\n",
        "    self.out_l = Neuron(hi_l,out_l)\n",
        "    self.output = 0\n",
        "  \n",
        "  def forward(self,inp):\n",
        "    hi_out = self.hi_l.forward(inp)\n",
        "    self.output = self.out_l.forward(hi_out)\n",
        "    return self.output\n",
        "  \n",
        "  def backward(self,inp,exp_out,pred_out):\n",
        "    err = exp_out - pred_out\n",
        "    d_pred_out = err * sigmoid_derivative(pred_out)\n",
        "\n",
        "    err_hi_l = d_pred_out.dot(self.out_l.w.T)\n",
        "    d_hi_l = err_hi_l * sigmoid_derivative(self.hi_l.output)\n",
        "\n",
        "    self.out_l.backward_n(self.hi_l.output.T,d_pred_out)\n",
        "    self.hi_l.backward_n(inp.T,d_hi_l)\n",
        "\n",
        "  def train(self,x,y,epochs):\n",
        "    for i in range(epochs):\n",
        "      output = self.forward(x)\n",
        "      self.backward(x,y,output)\n",
        "\n",
        "  def predict(self,x):\n",
        "    return self.forward(x)\n",
        "\n",
        "  def accuracy(self,y,predict):\n",
        "    return 1 - (np.abs(y - predict))\n",
        "\n",
        "\n"
      ],
      "metadata": {
        "id": "s5DCp4nThIez"
      },
      "execution_count": 29,
      "outputs": []
    },
    {
      "cell_type": "code",
      "source": [
        "x = np.array([[0,0],[0,1],[1,0],[1,1]])\n",
        "y = np.array([[0],[1],[1],[0]])\n",
        "\n",
        "inp_size,hi_size,out_size = 2,2,1\n",
        "\n",
        "model = Model(inp_size,hi_size,out_size)\n",
        "model.train(x,y,10000)\n",
        "output = model.predict([[0,0],[1,0]])\n",
        "print(output)\n",
        "print(\"----------\")\n",
        "print(model.accuracy([[0],[1]],output))\n"
      ],
      "metadata": {
        "colab": {
          "base_uri": "https://localhost:8080/"
        },
        "id": "9bbgEbLMmqFv",
        "outputId": "41524cad-af7c-4f4c-d443-a2c1df939099"
      },
      "execution_count": 36,
      "outputs": [
        {
          "output_type": "stream",
          "name": "stdout",
          "text": [
            "[[0.63279511]\n",
            " [0.68749085]]\n",
            "----------\n",
            "[[0.36720489]\n",
            " [0.68749085]]\n"
          ]
        }
      ]
    },
    {
      "cell_type": "code",
      "source": [],
      "metadata": {
        "id": "mCaVcebGodSk"
      },
      "execution_count": 27,
      "outputs": []
    }
  ]
}