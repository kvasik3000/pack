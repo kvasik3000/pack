{
  "nbformat": 4,
  "nbformat_minor": 0,
  "metadata": {
    "colab": {
      "provenance": []
    },
    "kernelspec": {
      "name": "python3",
      "display_name": "Python 3"
    },
    "language_info": {
      "name": "python"
    }
  },
  "cells": [
    {
      "cell_type": "markdown",
      "source": [
        "# **Лабораторная работа 9.1 Титаник ML**\n",
        "\n",
        "1.Загрузить файл, разделить его на train и test. Для test взять 10% случайно выбранных строк таблицы.\n",
        "\n",
        "2.Обучить модели: Decision Tree, XGBoost, Logistic Regression из библиотек sklearn и xgboost. Обучить модели предсказывать столбец label по остальным столбцам таблицы.\n",
        "\n",
        "3.Наладить замер Accuracy - доли верно угаданных ответов.\n",
        "Точности всех моделей не должны быть ниже 85%\n",
        "\n",
        "4.С помощью Decision Tree выбрать 2 самых важных признака и проверить точность модели, обученной только на них. "
      ],
      "metadata": {
        "id": "U3r39V5OHzLI"
      }
    },
    {
      "cell_type": "code",
      "execution_count": null,
      "metadata": {
        "id": "0Ezxdwx-D8MC"
      },
      "outputs": [],
      "source": [
        "!pip install scikit-learn==1.2.1\n"
      ]
    },
    {
      "cell_type": "code",
      "source": [
        "import numpy as np\n",
        "import pandas as pd\n",
        "from sklearn.model_selection import GridSearchCV\n",
        "from sklearn.tree import DecisionTreeClassifier\n",
        "from xgboost import XGBClassifier\n",
        "from sklearn.linear_model import LogisticRegression\n",
        "from sklearn.metrics import accuracy_score\n",
        "from sklearn.preprocessing import MinMaxScaler\n",
        "import matplotlib.pyplot as plt\n"
      ],
      "metadata": {
        "id": "lUbczyibFtRa"
      },
      "execution_count": 267,
      "outputs": []
    },
    {
      "cell_type": "code",
      "source": [
        "df_titanic = pd.read_csv(\"/content/titanic_prepared.csv\")\n",
        "df_titanic"
      ],
      "metadata": {
        "colab": {
          "base_uri": "https://localhost:8080/",
          "height": 423
        },
        "id": "zj7aPjWvJmYv",
        "outputId": "21225dfb-68e2-4572-dfe4-8af80304c135"
      },
      "execution_count": 268,
      "outputs": [
        {
          "output_type": "execute_result",
          "data": {
            "text/plain": [
              "      Unnamed: 0  sex  row_number  liters_drunk  drink  check_number  label  \\\n",
              "0              0    0        90.0           1.0      1          8092      1   \n",
              "1              1    0        81.0           4.0      1          4252      1   \n",
              "2              2    1        14.0           3.0      0          6913      1   \n",
              "3              3    1         0.0           1.0      0          8479      1   \n",
              "4              4    1        84.0           1.0      0          6279      0   \n",
              "...          ...  ...         ...           ...    ...           ...    ...   \n",
              "6629        6629    1        55.0           2.0      0          1526      1   \n",
              "6630        6630    1        75.0           5.0      1          6690      0   \n",
              "6631        6631    1         1.0           2.0      1          2834      0   \n",
              "6632        6632    1        68.0           4.0      0          5126      1   \n",
              "6633        6633    1        54.0           5.0      1          5375      1   \n",
              "\n",
              "      age_child  age_adult  age_old  morning    day  evening  \n",
              "0         False      False     True    False  False     True  \n",
              "1         False       True    False    False   True    False  \n",
              "2         False      False     True    False  False     True  \n",
              "3         False      False     True    False   True    False  \n",
              "4         False      False     True     True  False    False  \n",
              "...         ...        ...      ...      ...    ...      ...  \n",
              "6629      False      False     True    False  False     True  \n",
              "6630      False      False     True    False   True    False  \n",
              "6631      False       True    False     True  False    False  \n",
              "6632      False       True    False    False   True    False  \n",
              "6633      False       True    False     True  False    False  \n",
              "\n",
              "[6634 rows x 13 columns]"
            ],
            "text/html": [
              "\n",
              "  <div id=\"df-ae0c15c4-1b03-4db1-a749-2067a25aa1fb\">\n",
              "    <div class=\"colab-df-container\">\n",
              "      <div>\n",
              "<style scoped>\n",
              "    .dataframe tbody tr th:only-of-type {\n",
              "        vertical-align: middle;\n",
              "    }\n",
              "\n",
              "    .dataframe tbody tr th {\n",
              "        vertical-align: top;\n",
              "    }\n",
              "\n",
              "    .dataframe thead th {\n",
              "        text-align: right;\n",
              "    }\n",
              "</style>\n",
              "<table border=\"1\" class=\"dataframe\">\n",
              "  <thead>\n",
              "    <tr style=\"text-align: right;\">\n",
              "      <th></th>\n",
              "      <th>Unnamed: 0</th>\n",
              "      <th>sex</th>\n",
              "      <th>row_number</th>\n",
              "      <th>liters_drunk</th>\n",
              "      <th>drink</th>\n",
              "      <th>check_number</th>\n",
              "      <th>label</th>\n",
              "      <th>age_child</th>\n",
              "      <th>age_adult</th>\n",
              "      <th>age_old</th>\n",
              "      <th>morning</th>\n",
              "      <th>day</th>\n",
              "      <th>evening</th>\n",
              "    </tr>\n",
              "  </thead>\n",
              "  <tbody>\n",
              "    <tr>\n",
              "      <th>0</th>\n",
              "      <td>0</td>\n",
              "      <td>0</td>\n",
              "      <td>90.0</td>\n",
              "      <td>1.0</td>\n",
              "      <td>1</td>\n",
              "      <td>8092</td>\n",
              "      <td>1</td>\n",
              "      <td>False</td>\n",
              "      <td>False</td>\n",
              "      <td>True</td>\n",
              "      <td>False</td>\n",
              "      <td>False</td>\n",
              "      <td>True</td>\n",
              "    </tr>\n",
              "    <tr>\n",
              "      <th>1</th>\n",
              "      <td>1</td>\n",
              "      <td>0</td>\n",
              "      <td>81.0</td>\n",
              "      <td>4.0</td>\n",
              "      <td>1</td>\n",
              "      <td>4252</td>\n",
              "      <td>1</td>\n",
              "      <td>False</td>\n",
              "      <td>True</td>\n",
              "      <td>False</td>\n",
              "      <td>False</td>\n",
              "      <td>True</td>\n",
              "      <td>False</td>\n",
              "    </tr>\n",
              "    <tr>\n",
              "      <th>2</th>\n",
              "      <td>2</td>\n",
              "      <td>1</td>\n",
              "      <td>14.0</td>\n",
              "      <td>3.0</td>\n",
              "      <td>0</td>\n",
              "      <td>6913</td>\n",
              "      <td>1</td>\n",
              "      <td>False</td>\n",
              "      <td>False</td>\n",
              "      <td>True</td>\n",
              "      <td>False</td>\n",
              "      <td>False</td>\n",
              "      <td>True</td>\n",
              "    </tr>\n",
              "    <tr>\n",
              "      <th>3</th>\n",
              "      <td>3</td>\n",
              "      <td>1</td>\n",
              "      <td>0.0</td>\n",
              "      <td>1.0</td>\n",
              "      <td>0</td>\n",
              "      <td>8479</td>\n",
              "      <td>1</td>\n",
              "      <td>False</td>\n",
              "      <td>False</td>\n",
              "      <td>True</td>\n",
              "      <td>False</td>\n",
              "      <td>True</td>\n",
              "      <td>False</td>\n",
              "    </tr>\n",
              "    <tr>\n",
              "      <th>4</th>\n",
              "      <td>4</td>\n",
              "      <td>1</td>\n",
              "      <td>84.0</td>\n",
              "      <td>1.0</td>\n",
              "      <td>0</td>\n",
              "      <td>6279</td>\n",
              "      <td>0</td>\n",
              "      <td>False</td>\n",
              "      <td>False</td>\n",
              "      <td>True</td>\n",
              "      <td>True</td>\n",
              "      <td>False</td>\n",
              "      <td>False</td>\n",
              "    </tr>\n",
              "    <tr>\n",
              "      <th>...</th>\n",
              "      <td>...</td>\n",
              "      <td>...</td>\n",
              "      <td>...</td>\n",
              "      <td>...</td>\n",
              "      <td>...</td>\n",
              "      <td>...</td>\n",
              "      <td>...</td>\n",
              "      <td>...</td>\n",
              "      <td>...</td>\n",
              "      <td>...</td>\n",
              "      <td>...</td>\n",
              "      <td>...</td>\n",
              "      <td>...</td>\n",
              "    </tr>\n",
              "    <tr>\n",
              "      <th>6629</th>\n",
              "      <td>6629</td>\n",
              "      <td>1</td>\n",
              "      <td>55.0</td>\n",
              "      <td>2.0</td>\n",
              "      <td>0</td>\n",
              "      <td>1526</td>\n",
              "      <td>1</td>\n",
              "      <td>False</td>\n",
              "      <td>False</td>\n",
              "      <td>True</td>\n",
              "      <td>False</td>\n",
              "      <td>False</td>\n",
              "      <td>True</td>\n",
              "    </tr>\n",
              "    <tr>\n",
              "      <th>6630</th>\n",
              "      <td>6630</td>\n",
              "      <td>1</td>\n",
              "      <td>75.0</td>\n",
              "      <td>5.0</td>\n",
              "      <td>1</td>\n",
              "      <td>6690</td>\n",
              "      <td>0</td>\n",
              "      <td>False</td>\n",
              "      <td>False</td>\n",
              "      <td>True</td>\n",
              "      <td>False</td>\n",
              "      <td>True</td>\n",
              "      <td>False</td>\n",
              "    </tr>\n",
              "    <tr>\n",
              "      <th>6631</th>\n",
              "      <td>6631</td>\n",
              "      <td>1</td>\n",
              "      <td>1.0</td>\n",
              "      <td>2.0</td>\n",
              "      <td>1</td>\n",
              "      <td>2834</td>\n",
              "      <td>0</td>\n",
              "      <td>False</td>\n",
              "      <td>True</td>\n",
              "      <td>False</td>\n",
              "      <td>True</td>\n",
              "      <td>False</td>\n",
              "      <td>False</td>\n",
              "    </tr>\n",
              "    <tr>\n",
              "      <th>6632</th>\n",
              "      <td>6632</td>\n",
              "      <td>1</td>\n",
              "      <td>68.0</td>\n",
              "      <td>4.0</td>\n",
              "      <td>0</td>\n",
              "      <td>5126</td>\n",
              "      <td>1</td>\n",
              "      <td>False</td>\n",
              "      <td>True</td>\n",
              "      <td>False</td>\n",
              "      <td>False</td>\n",
              "      <td>True</td>\n",
              "      <td>False</td>\n",
              "    </tr>\n",
              "    <tr>\n",
              "      <th>6633</th>\n",
              "      <td>6633</td>\n",
              "      <td>1</td>\n",
              "      <td>54.0</td>\n",
              "      <td>5.0</td>\n",
              "      <td>1</td>\n",
              "      <td>5375</td>\n",
              "      <td>1</td>\n",
              "      <td>False</td>\n",
              "      <td>True</td>\n",
              "      <td>False</td>\n",
              "      <td>True</td>\n",
              "      <td>False</td>\n",
              "      <td>False</td>\n",
              "    </tr>\n",
              "  </tbody>\n",
              "</table>\n",
              "<p>6634 rows × 13 columns</p>\n",
              "</div>\n",
              "      <button class=\"colab-df-convert\" onclick=\"convertToInteractive('df-ae0c15c4-1b03-4db1-a749-2067a25aa1fb')\"\n",
              "              title=\"Convert this dataframe to an interactive table.\"\n",
              "              style=\"display:none;\">\n",
              "        \n",
              "  <svg xmlns=\"http://www.w3.org/2000/svg\" height=\"24px\"viewBox=\"0 0 24 24\"\n",
              "       width=\"24px\">\n",
              "    <path d=\"M0 0h24v24H0V0z\" fill=\"none\"/>\n",
              "    <path d=\"M18.56 5.44l.94 2.06.94-2.06 2.06-.94-2.06-.94-.94-2.06-.94 2.06-2.06.94zm-11 1L8.5 8.5l.94-2.06 2.06-.94-2.06-.94L8.5 2.5l-.94 2.06-2.06.94zm10 10l.94 2.06.94-2.06 2.06-.94-2.06-.94-.94-2.06-.94 2.06-2.06.94z\"/><path d=\"M17.41 7.96l-1.37-1.37c-.4-.4-.92-.59-1.43-.59-.52 0-1.04.2-1.43.59L10.3 9.45l-7.72 7.72c-.78.78-.78 2.05 0 2.83L4 21.41c.39.39.9.59 1.41.59.51 0 1.02-.2 1.41-.59l7.78-7.78 2.81-2.81c.8-.78.8-2.07 0-2.86zM5.41 20L4 18.59l7.72-7.72 1.47 1.35L5.41 20z\"/>\n",
              "  </svg>\n",
              "      </button>\n",
              "      \n",
              "  <style>\n",
              "    .colab-df-container {\n",
              "      display:flex;\n",
              "      flex-wrap:wrap;\n",
              "      gap: 12px;\n",
              "    }\n",
              "\n",
              "    .colab-df-convert {\n",
              "      background-color: #E8F0FE;\n",
              "      border: none;\n",
              "      border-radius: 50%;\n",
              "      cursor: pointer;\n",
              "      display: none;\n",
              "      fill: #1967D2;\n",
              "      height: 32px;\n",
              "      padding: 0 0 0 0;\n",
              "      width: 32px;\n",
              "    }\n",
              "\n",
              "    .colab-df-convert:hover {\n",
              "      background-color: #E2EBFA;\n",
              "      box-shadow: 0px 1px 2px rgba(60, 64, 67, 0.3), 0px 1px 3px 1px rgba(60, 64, 67, 0.15);\n",
              "      fill: #174EA6;\n",
              "    }\n",
              "\n",
              "    [theme=dark] .colab-df-convert {\n",
              "      background-color: #3B4455;\n",
              "      fill: #D2E3FC;\n",
              "    }\n",
              "\n",
              "    [theme=dark] .colab-df-convert:hover {\n",
              "      background-color: #434B5C;\n",
              "      box-shadow: 0px 1px 3px 1px rgba(0, 0, 0, 0.15);\n",
              "      filter: drop-shadow(0px 1px 2px rgba(0, 0, 0, 0.3));\n",
              "      fill: #FFFFFF;\n",
              "    }\n",
              "  </style>\n",
              "\n",
              "      <script>\n",
              "        const buttonEl =\n",
              "          document.querySelector('#df-ae0c15c4-1b03-4db1-a749-2067a25aa1fb button.colab-df-convert');\n",
              "        buttonEl.style.display =\n",
              "          google.colab.kernel.accessAllowed ? 'block' : 'none';\n",
              "\n",
              "        async function convertToInteractive(key) {\n",
              "          const element = document.querySelector('#df-ae0c15c4-1b03-4db1-a749-2067a25aa1fb');\n",
              "          const dataTable =\n",
              "            await google.colab.kernel.invokeFunction('convertToInteractive',\n",
              "                                                     [key], {});\n",
              "          if (!dataTable) return;\n",
              "\n",
              "          const docLinkHtml = 'Like what you see? Visit the ' +\n",
              "            '<a target=\"_blank\" href=https://colab.research.google.com/notebooks/data_table.ipynb>data table notebook</a>'\n",
              "            + ' to learn more about interactive tables.';\n",
              "          element.innerHTML = '';\n",
              "          dataTable['output_type'] = 'display_data';\n",
              "          await google.colab.output.renderOutput(dataTable, element);\n",
              "          const docLink = document.createElement('div');\n",
              "          docLink.innerHTML = docLinkHtml;\n",
              "          element.appendChild(docLink);\n",
              "        }\n",
              "      </script>\n",
              "    </div>\n",
              "  </div>\n",
              "  "
            ]
          },
          "metadata": {},
          "execution_count": 268
        }
      ]
    },
    {
      "cell_type": "code",
      "source": [
        "def scale_data(X):\n",
        "    scaler = MinMaxScaler()\n",
        "    return scaler.fit_transform(X)"
      ],
      "metadata": {
        "id": "tHYdo59a6iCi"
      },
      "execution_count": 269,
      "outputs": []
    },
    {
      "cell_type": "code",
      "source": [
        "df_titanic = df_titanic.astype(int)\n",
        "df_titanic = df_titanic.drop(['Unnamed: 0','row_number','check_number'], axis=1)\n",
        "df_titanic"
      ],
      "metadata": {
        "colab": {
          "base_uri": "https://localhost:8080/",
          "height": 423
        },
        "id": "XLE_0tq9MVr2",
        "outputId": "79c263fc-12ba-4d9a-ec80-85dd9feeb972"
      },
      "execution_count": 270,
      "outputs": [
        {
          "output_type": "execute_result",
          "data": {
            "text/plain": [
              "      sex  liters_drunk  drink  label  age_child  age_adult  age_old  morning  \\\n",
              "0       0             1      1      1          0          0        1        0   \n",
              "1       0             4      1      1          0          1        0        0   \n",
              "2       1             3      0      1          0          0        1        0   \n",
              "3       1             1      0      1          0          0        1        0   \n",
              "4       1             1      0      0          0          0        1        1   \n",
              "...   ...           ...    ...    ...        ...        ...      ...      ...   \n",
              "6629    1             2      0      1          0          0        1        0   \n",
              "6630    1             5      1      0          0          0        1        0   \n",
              "6631    1             2      1      0          0          1        0        1   \n",
              "6632    1             4      0      1          0          1        0        0   \n",
              "6633    1             5      1      1          0          1        0        1   \n",
              "\n",
              "      day  evening  \n",
              "0       0        1  \n",
              "1       1        0  \n",
              "2       0        1  \n",
              "3       1        0  \n",
              "4       0        0  \n",
              "...   ...      ...  \n",
              "6629    0        1  \n",
              "6630    1        0  \n",
              "6631    0        0  \n",
              "6632    1        0  \n",
              "6633    0        0  \n",
              "\n",
              "[6634 rows x 10 columns]"
            ],
            "text/html": [
              "\n",
              "  <div id=\"df-18516971-e6bc-4ed7-91c3-73f7fc5f7652\">\n",
              "    <div class=\"colab-df-container\">\n",
              "      <div>\n",
              "<style scoped>\n",
              "    .dataframe tbody tr th:only-of-type {\n",
              "        vertical-align: middle;\n",
              "    }\n",
              "\n",
              "    .dataframe tbody tr th {\n",
              "        vertical-align: top;\n",
              "    }\n",
              "\n",
              "    .dataframe thead th {\n",
              "        text-align: right;\n",
              "    }\n",
              "</style>\n",
              "<table border=\"1\" class=\"dataframe\">\n",
              "  <thead>\n",
              "    <tr style=\"text-align: right;\">\n",
              "      <th></th>\n",
              "      <th>sex</th>\n",
              "      <th>liters_drunk</th>\n",
              "      <th>drink</th>\n",
              "      <th>label</th>\n",
              "      <th>age_child</th>\n",
              "      <th>age_adult</th>\n",
              "      <th>age_old</th>\n",
              "      <th>morning</th>\n",
              "      <th>day</th>\n",
              "      <th>evening</th>\n",
              "    </tr>\n",
              "  </thead>\n",
              "  <tbody>\n",
              "    <tr>\n",
              "      <th>0</th>\n",
              "      <td>0</td>\n",
              "      <td>1</td>\n",
              "      <td>1</td>\n",
              "      <td>1</td>\n",
              "      <td>0</td>\n",
              "      <td>0</td>\n",
              "      <td>1</td>\n",
              "      <td>0</td>\n",
              "      <td>0</td>\n",
              "      <td>1</td>\n",
              "    </tr>\n",
              "    <tr>\n",
              "      <th>1</th>\n",
              "      <td>0</td>\n",
              "      <td>4</td>\n",
              "      <td>1</td>\n",
              "      <td>1</td>\n",
              "      <td>0</td>\n",
              "      <td>1</td>\n",
              "      <td>0</td>\n",
              "      <td>0</td>\n",
              "      <td>1</td>\n",
              "      <td>0</td>\n",
              "    </tr>\n",
              "    <tr>\n",
              "      <th>2</th>\n",
              "      <td>1</td>\n",
              "      <td>3</td>\n",
              "      <td>0</td>\n",
              "      <td>1</td>\n",
              "      <td>0</td>\n",
              "      <td>0</td>\n",
              "      <td>1</td>\n",
              "      <td>0</td>\n",
              "      <td>0</td>\n",
              "      <td>1</td>\n",
              "    </tr>\n",
              "    <tr>\n",
              "      <th>3</th>\n",
              "      <td>1</td>\n",
              "      <td>1</td>\n",
              "      <td>0</td>\n",
              "      <td>1</td>\n",
              "      <td>0</td>\n",
              "      <td>0</td>\n",
              "      <td>1</td>\n",
              "      <td>0</td>\n",
              "      <td>1</td>\n",
              "      <td>0</td>\n",
              "    </tr>\n",
              "    <tr>\n",
              "      <th>4</th>\n",
              "      <td>1</td>\n",
              "      <td>1</td>\n",
              "      <td>0</td>\n",
              "      <td>0</td>\n",
              "      <td>0</td>\n",
              "      <td>0</td>\n",
              "      <td>1</td>\n",
              "      <td>1</td>\n",
              "      <td>0</td>\n",
              "      <td>0</td>\n",
              "    </tr>\n",
              "    <tr>\n",
              "      <th>...</th>\n",
              "      <td>...</td>\n",
              "      <td>...</td>\n",
              "      <td>...</td>\n",
              "      <td>...</td>\n",
              "      <td>...</td>\n",
              "      <td>...</td>\n",
              "      <td>...</td>\n",
              "      <td>...</td>\n",
              "      <td>...</td>\n",
              "      <td>...</td>\n",
              "    </tr>\n",
              "    <tr>\n",
              "      <th>6629</th>\n",
              "      <td>1</td>\n",
              "      <td>2</td>\n",
              "      <td>0</td>\n",
              "      <td>1</td>\n",
              "      <td>0</td>\n",
              "      <td>0</td>\n",
              "      <td>1</td>\n",
              "      <td>0</td>\n",
              "      <td>0</td>\n",
              "      <td>1</td>\n",
              "    </tr>\n",
              "    <tr>\n",
              "      <th>6630</th>\n",
              "      <td>1</td>\n",
              "      <td>5</td>\n",
              "      <td>1</td>\n",
              "      <td>0</td>\n",
              "      <td>0</td>\n",
              "      <td>0</td>\n",
              "      <td>1</td>\n",
              "      <td>0</td>\n",
              "      <td>1</td>\n",
              "      <td>0</td>\n",
              "    </tr>\n",
              "    <tr>\n",
              "      <th>6631</th>\n",
              "      <td>1</td>\n",
              "      <td>2</td>\n",
              "      <td>1</td>\n",
              "      <td>0</td>\n",
              "      <td>0</td>\n",
              "      <td>1</td>\n",
              "      <td>0</td>\n",
              "      <td>1</td>\n",
              "      <td>0</td>\n",
              "      <td>0</td>\n",
              "    </tr>\n",
              "    <tr>\n",
              "      <th>6632</th>\n",
              "      <td>1</td>\n",
              "      <td>4</td>\n",
              "      <td>0</td>\n",
              "      <td>1</td>\n",
              "      <td>0</td>\n",
              "      <td>1</td>\n",
              "      <td>0</td>\n",
              "      <td>0</td>\n",
              "      <td>1</td>\n",
              "      <td>0</td>\n",
              "    </tr>\n",
              "    <tr>\n",
              "      <th>6633</th>\n",
              "      <td>1</td>\n",
              "      <td>5</td>\n",
              "      <td>1</td>\n",
              "      <td>1</td>\n",
              "      <td>0</td>\n",
              "      <td>1</td>\n",
              "      <td>0</td>\n",
              "      <td>1</td>\n",
              "      <td>0</td>\n",
              "      <td>0</td>\n",
              "    </tr>\n",
              "  </tbody>\n",
              "</table>\n",
              "<p>6634 rows × 10 columns</p>\n",
              "</div>\n",
              "      <button class=\"colab-df-convert\" onclick=\"convertToInteractive('df-18516971-e6bc-4ed7-91c3-73f7fc5f7652')\"\n",
              "              title=\"Convert this dataframe to an interactive table.\"\n",
              "              style=\"display:none;\">\n",
              "        \n",
              "  <svg xmlns=\"http://www.w3.org/2000/svg\" height=\"24px\"viewBox=\"0 0 24 24\"\n",
              "       width=\"24px\">\n",
              "    <path d=\"M0 0h24v24H0V0z\" fill=\"none\"/>\n",
              "    <path d=\"M18.56 5.44l.94 2.06.94-2.06 2.06-.94-2.06-.94-.94-2.06-.94 2.06-2.06.94zm-11 1L8.5 8.5l.94-2.06 2.06-.94-2.06-.94L8.5 2.5l-.94 2.06-2.06.94zm10 10l.94 2.06.94-2.06 2.06-.94-2.06-.94-.94-2.06-.94 2.06-2.06.94z\"/><path d=\"M17.41 7.96l-1.37-1.37c-.4-.4-.92-.59-1.43-.59-.52 0-1.04.2-1.43.59L10.3 9.45l-7.72 7.72c-.78.78-.78 2.05 0 2.83L4 21.41c.39.39.9.59 1.41.59.51 0 1.02-.2 1.41-.59l7.78-7.78 2.81-2.81c.8-.78.8-2.07 0-2.86zM5.41 20L4 18.59l7.72-7.72 1.47 1.35L5.41 20z\"/>\n",
              "  </svg>\n",
              "      </button>\n",
              "      \n",
              "  <style>\n",
              "    .colab-df-container {\n",
              "      display:flex;\n",
              "      flex-wrap:wrap;\n",
              "      gap: 12px;\n",
              "    }\n",
              "\n",
              "    .colab-df-convert {\n",
              "      background-color: #E8F0FE;\n",
              "      border: none;\n",
              "      border-radius: 50%;\n",
              "      cursor: pointer;\n",
              "      display: none;\n",
              "      fill: #1967D2;\n",
              "      height: 32px;\n",
              "      padding: 0 0 0 0;\n",
              "      width: 32px;\n",
              "    }\n",
              "\n",
              "    .colab-df-convert:hover {\n",
              "      background-color: #E2EBFA;\n",
              "      box-shadow: 0px 1px 2px rgba(60, 64, 67, 0.3), 0px 1px 3px 1px rgba(60, 64, 67, 0.15);\n",
              "      fill: #174EA6;\n",
              "    }\n",
              "\n",
              "    [theme=dark] .colab-df-convert {\n",
              "      background-color: #3B4455;\n",
              "      fill: #D2E3FC;\n",
              "    }\n",
              "\n",
              "    [theme=dark] .colab-df-convert:hover {\n",
              "      background-color: #434B5C;\n",
              "      box-shadow: 0px 1px 3px 1px rgba(0, 0, 0, 0.15);\n",
              "      filter: drop-shadow(0px 1px 2px rgba(0, 0, 0, 0.3));\n",
              "      fill: #FFFFFF;\n",
              "    }\n",
              "  </style>\n",
              "\n",
              "      <script>\n",
              "        const buttonEl =\n",
              "          document.querySelector('#df-18516971-e6bc-4ed7-91c3-73f7fc5f7652 button.colab-df-convert');\n",
              "        buttonEl.style.display =\n",
              "          google.colab.kernel.accessAllowed ? 'block' : 'none';\n",
              "\n",
              "        async function convertToInteractive(key) {\n",
              "          const element = document.querySelector('#df-18516971-e6bc-4ed7-91c3-73f7fc5f7652');\n",
              "          const dataTable =\n",
              "            await google.colab.kernel.invokeFunction('convertToInteractive',\n",
              "                                                     [key], {});\n",
              "          if (!dataTable) return;\n",
              "\n",
              "          const docLinkHtml = 'Like what you see? Visit the ' +\n",
              "            '<a target=\"_blank\" href=https://colab.research.google.com/notebooks/data_table.ipynb>data table notebook</a>'\n",
              "            + ' to learn more about interactive tables.';\n",
              "          element.innerHTML = '';\n",
              "          dataTable['output_type'] = 'display_data';\n",
              "          await google.colab.output.renderOutput(dataTable, element);\n",
              "          const docLink = document.createElement('div');\n",
              "          docLink.innerHTML = docLinkHtml;\n",
              "          element.appendChild(docLink);\n",
              "        }\n",
              "      </script>\n",
              "    </div>\n",
              "  </div>\n",
              "  "
            ]
          },
          "metadata": {},
          "execution_count": 270
        }
      ]
    },
    {
      "cell_type": "code",
      "source": [
        "def separation(df):\n",
        "  train, validate, test = np.split(df.sample(frac=1, random_state=10),\n",
        "                                 [int(.8 * len(df)), int(.9 * len(df))])\n",
        "  return train,validate,test"
      ],
      "metadata": {
        "id": "4_mseOmuJ-YO"
      },
      "execution_count": 271,
      "outputs": []
    },
    {
      "cell_type": "code",
      "source": [
        "X = df_titanic.drop(['label'], axis=1)\n",
        "Y = df_titanic['label']\n"
      ],
      "metadata": {
        "id": "V49I-_3GMkOl"
      },
      "execution_count": 272,
      "outputs": []
    },
    {
      "cell_type": "code",
      "source": [
        "train_x,validate_x,test_x = separation(X)\n",
        "train_y,validate_y,test_y = separation(Y)\n",
        "\n",
        "train_x = scale_data(train_x)\n",
        "validate_x = scale_data(validate_x)\n",
        "test_x = scale_data(test_x)"
      ],
      "metadata": {
        "id": "dxvgNdqsMEEI"
      },
      "execution_count": 273,
      "outputs": []
    },
    {
      "cell_type": "code",
      "source": [
        "def get_accuracy(model, xtest, ytest):\n",
        "    predict = model.predict(xtest)\n",
        "    return accuracy_score(ytest, predict)"
      ],
      "metadata": {
        "id": "nz3V9gqg1-b7"
      },
      "execution_count": 274,
      "outputs": []
    },
    {
      "cell_type": "markdown",
      "source": [
        "# Decision Tree"
      ],
      "metadata": {
        "id": "MlpDTsAUuocb"
      }
    },
    {
      "cell_type": "code",
      "source": [
        "def dt(xtrain,ytrain,xvalidate,yvalidate):\n",
        "  cls = DecisionTreeClassifier()\n",
        "  param = {\n",
        "      'criterion':['gini', 'entropy', 'log_loss'],\n",
        "      'max_depth': range(1,50,1),\n",
        "      \n",
        "          }\n",
        "  grid = GridSearchCV(cls, param)\n",
        "  grid.fit(xtrain,ytrain)\n",
        "  criterion = grid.best_params_.get('criterion')\n",
        "  max_depth = grid.best_params_.get('max_depth')\n",
        "  model = DecisionTreeClassifier(criterion=criterion, max_depth=max_depth)\n",
        "  model.fit(xtrain,ytrain)\n",
        "  predict = model.predict(xvalidate)\n",
        "  # print(predict)\n",
        "  acc = accuracy_score(yvalidate,predict)\n",
        "  print(f'Лучшие параметры:\\n{grid.best_params_}')\n",
        "  print('Лучшая accuracy на валидации: {:.2%}'.format(acc))\n",
        "  return model\n",
        "\n"
      ],
      "metadata": {
        "id": "TcsZ-NoaOfZy"
      },
      "execution_count": 275,
      "outputs": []
    },
    {
      "cell_type": "code",
      "source": [
        "model_DT = dt(train_x,train_y,validate_x,validate_y)\n",
        "acc = get_accuracy(model_DT,test_x,test_y)\n",
        "print('Accuracy на тесте: {:.2%}'.format(acc))"
      ],
      "metadata": {
        "colab": {
          "base_uri": "https://localhost:8080/"
        },
        "id": "bT5Jt4k_1vE7",
        "outputId": "c8779f3c-0b3f-4560-e480-991dd1b43083"
      },
      "execution_count": 276,
      "outputs": [
        {
          "output_type": "stream",
          "name": "stdout",
          "text": [
            "Лучшие параметры:\n",
            "{'criterion': 'entropy', 'max_depth': 6}\n",
            "Лучшая accuracy на валидации: 90.50%\n",
            "Accuracy на тесте: 90.06%\n"
          ]
        }
      ]
    },
    {
      "cell_type": "markdown",
      "source": [
        "# XGBoost"
      ],
      "metadata": {
        "id": "dKYplAyKXBDi"
      }
    },
    {
      "cell_type": "code",
      "source": [
        "def XGB(xtrain,ytrain,xvalidate,yvalidate):\n",
        "  cls = XGBClassifier()\n",
        "  param = {\n",
        "       'max_depth': range(2, 10, 1),\n",
        "       'n_estimators': range(50,150 , 10),\n",
        "       'learning_rate': [0.1, 0.01, 0.05]\n",
        "      \n",
        "          }\n",
        "  grid = GridSearchCV(cls, param)\n",
        "  grid.fit(xtrain,ytrain)\n",
        "  n_estimators = grid.best_params_.get('n_estimators')\n",
        "  max_depth = grid.best_params_.get('max_depth')\n",
        "  learning_rate = grid.best_params_.get('learning_rate')\n",
        "  model = XGBClassifier(learning_rate=learning_rate, max_depth=max_depth, n_estimators=n_estimators)\n",
        "  model.fit(xtrain,ytrain)\n",
        "  predict = model.predict(xvalidate)\n",
        "  # print(predict)\n",
        "  acc = accuracy_score(yvalidate,predict)\n",
        "  print(f'Лучшие параметры:\\n{grid.best_params_}')\n",
        "  print('Лучшая accuracy на валидации: {:.2%}'.format(acc))\n",
        "  return model"
      ],
      "metadata": {
        "id": "XBVCTeWZQq86"
      },
      "execution_count": 277,
      "outputs": []
    },
    {
      "cell_type": "code",
      "source": [
        "model = XGB(train_x,train_y,validate_x,validate_y)\n",
        "acc = get_accuracy(model,test_x,test_y)\n",
        "print('Accuracy на тесте: {:.2%}'.format(acc))"
      ],
      "metadata": {
        "colab": {
          "base_uri": "https://localhost:8080/"
        },
        "id": "bOt3g3IAYUDC",
        "outputId": "1ca74570-360e-4665-9b69-cc9819e32cd6"
      },
      "execution_count": 278,
      "outputs": [
        {
          "output_type": "stream",
          "name": "stdout",
          "text": [
            "Лучшие параметры:\n",
            "{'learning_rate': 0.1, 'max_depth': 2, 'n_estimators': 100}\n",
            "Лучшая accuracy на валидации: 90.50%\n",
            "Accuracy на тесте: 90.06%\n"
          ]
        }
      ]
    },
    {
      "cell_type": "markdown",
      "source": [
        "# Logistic Regression"
      ],
      "metadata": {
        "id": "-lU7qESIh3l7"
      }
    },
    {
      "cell_type": "code",
      "source": [
        "def LR(xtrain,ytrain,xvalidate,yvalidate):\n",
        "  cls = LogisticRegression()\n",
        "  param = {\n",
        "       'C': np.arange(0.01, 1, 0.01),\n",
        "       'solver': ['lbfgs', 'liblinear', 'newton-cg', 'newton-cholesky', 'sag', 'saga']\n",
        "      \n",
        "          }\n",
        "  grid = GridSearchCV(cls, param)\n",
        "  grid.fit(xtrain,ytrain)\n",
        "  C = grid.best_params_.get('C')\n",
        "  solver = grid.best_params_.get('solver')\n",
        "  model = LogisticRegression(C=C, solver=solver)\n",
        "  model.fit(xtrain,ytrain)\n",
        "  predict = model.predict(xvalidate)\n",
        "  # print(predict)\n",
        "  acc = accuracy_score(yvalidate,predict)\n",
        "  print(f'Лучшие параметры:\\n{grid.best_params_}')\n",
        "  print('Лучшая accuracy на валидации: {:.2%}'.format(acc))\n",
        "  return model"
      ],
      "metadata": {
        "id": "1mC8BtpvYaoQ"
      },
      "execution_count": 279,
      "outputs": []
    },
    {
      "cell_type": "code",
      "source": [
        "model = LR(train_x,train_y,validate_x,validate_y)\n",
        "acc = get_accuracy(model,test_x,test_y)\n",
        "print('Accuracy на тесте: {:.2%}'.format(acc))"
      ],
      "metadata": {
        "colab": {
          "base_uri": "https://localhost:8080/"
        },
        "id": "KtRVOuQkiKQo",
        "outputId": "01c8f168-d3c9-4b2f-82c9-4dd3955a2e7c"
      },
      "execution_count": 280,
      "outputs": [
        {
          "output_type": "stream",
          "name": "stdout",
          "text": [
            "Лучшие параметры:\n",
            "{'C': 0.01, 'solver': 'lbfgs'}\n",
            "Лучшая accuracy на валидации: 87.48%\n",
            "Accuracy на тесте: 87.20%\n"
          ]
        }
      ]
    },
    {
      "cell_type": "markdown",
      "source": [
        "# Decision Tree 2 важных признака"
      ],
      "metadata": {
        "id": "nCr5nN_Zqghy"
      }
    },
    {
      "cell_type": "code",
      "source": [
        "importances = model_DT.feature_importances_\n",
        "features = X.columns\n",
        "# Добавление сортировки по важности\n",
        "indices = np.argsort(importances)\n",
        "plt.title('Важность признаков')\n",
        "plt.barh(range(len(indices)), importances[indices], color='b', align='center')\n",
        "plt.yticks(range(len(indices)), features[indices])\n",
        "plt.xlabel('Относительная важность')\n",
        "plt.show()"
      ],
      "metadata": {
        "colab": {
          "base_uri": "https://localhost:8080/",
          "height": 295
        },
        "id": "O4ywNjdEkfYg",
        "outputId": "7bd812b3-fafe-437f-b1b6-968741f56b20"
      },
      "execution_count": 281,
      "outputs": [
        {
          "output_type": "display_data",
          "data": {
            "text/plain": [
              "<Figure size 432x288 with 1 Axes>"
            ],
            "image/png": "[encoded data removed]"
          },
          "metadata": {
            "needs_background": "light"
          }
        }
      ]
    },
    {
      "cell_type": "code",
      "source": [
        "n = 2\n",
        "important_2 = X[features[indices][-n:]]\n",
        "\n",
        "train_x,validate_x,test_x = separation(important_2)\n",
        "train_x = scale_data(train_x)\n",
        "validate_x = scale_data(validate_x)\n",
        "test_x = scale_data(test_x)\n",
        "model_DT.fit(train_x,train_y)\n",
        "acc = get_accuracy(model_DT,test_x,test_y)\n",
        "print('Accuracy: {:.2%}'.format(acc))\n",
        "# important_2"
      ],
      "metadata": {
        "colab": {
          "base_uri": "https://localhost:8080/"
        },
        "id": "qz67FncNrXhD",
        "outputId": "b1b434d1-5039-41a6-e020-6d22ba8c7953"
      },
      "execution_count": 282,
      "outputs": [
        {
          "output_type": "stream",
          "name": "stdout",
          "text": [
            "Accuracy: 87.20%\n"
          ]
        }
      ]
    },
    {
      "cell_type": "code",
      "source": [],
      "metadata": {
        "id": "tUBTj22GsvHK"
      },
      "execution_count": 282,
      "outputs": []
    }
  ]
}