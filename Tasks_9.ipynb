{
  "nbformat": 4,
  "nbformat_minor": 0,
  "metadata": {
    "colab": {
      "provenance": []
    },
    "kernelspec": {
      "name": "python3",
      "display_name": "Python 3"
    },
    "language_info": {
      "name": "python"
    }
  },
  "cells": [
    {
      "cell_type": "code",
      "source": [
        "!pip install scikit-learn==1.2.1"
      ],
      "metadata": {
        "id": "MAtBq_hG2jvR",
        "colab": {
          "base_uri": "https://localhost:8080/"
        },
        "outputId": "72ea66d2-dd7c-4cf2-9e42-6dcd4195d2f8"
      },
      "execution_count": 30,
      "outputs": [
        {
          "output_type": "stream",
          "name": "stdout",
          "text": [
            "Looking in indexes: https://pypi.org/simple, https://us-python.pkg.dev/colab-wheels/public/simple/\n",
            "Requirement already satisfied: scikit-learn==1.2.1 in /usr/local/lib/python3.8/dist-packages (1.2.1)\n",
            "Requirement already satisfied: scipy>=1.3.2 in /usr/local/lib/python3.8/dist-packages (from scikit-learn==1.2.1) (1.7.3)\n",
            "Requirement already satisfied: joblib>=1.1.1 in /usr/local/lib/python3.8/dist-packages (from scikit-learn==1.2.1) (1.2.0)\n",
            "Requirement already satisfied: threadpoolctl>=2.0.0 in /usr/local/lib/python3.8/dist-packages (from scikit-learn==1.2.1) (3.1.0)\n",
            "Requirement already satisfied: numpy>=1.17.3 in /usr/local/lib/python3.8/dist-packages (from scikit-learn==1.2.1) (1.21.6)\n"
          ]
        }
      ]
    },
    {
      "cell_type": "code",
      "source": [
        "import numpy as np\n",
        "import pandas as pd\n",
        "from sklearn.decomposition import PCA\n",
        "from sklearn.preprocessing import MinMaxScaler\n",
        "from sklearn.ensemble import RandomForestClassifier\n",
        "from sklearn.metrics import accuracy_score\n",
        "from xgboost import XGBClassifier\n",
        "from sklearn.linear_model import LogisticRegression\n",
        "from sklearn.neighbors import KNeighborsClassifier\n",
        "import matplotlib.pyplot as plt"
      ],
      "metadata": {
        "id": "rlacTcR65Cti"
      },
      "execution_count": 54,
      "outputs": []
    },
    {
      "cell_type": "code",
      "source": [
        "from google.colab import drive\n",
        "drive.mount('/content/drive')"
      ],
      "metadata": {
        "colab": {
          "base_uri": "https://localhost:8080/"
        },
        "id": "0Cy4tDYVhHO5",
        "outputId": "5e5055d7-42a9-49c9-a624-df9af47eb641"
      },
      "execution_count": 55,
      "outputs": [
        {
          "output_type": "stream",
          "name": "stdout",
          "text": [
            "Drive already mounted at /content/drive; to attempt to forcibly remount, call drive.mount(\"/content/drive\", force_remount=True).\n"
          ]
        }
      ]
    },
    {
      "cell_type": "code",
      "source": [
        "df = pd.read_csv(\"/content/train.csv\")\n",
        "df_prep = df.drop(['PassengerId', 'Name', 'Ticket', 'Cabin'], axis=1)\n",
        "df\n",
        "df_prep"
      ],
      "metadata": {
        "colab": {
          "base_uri": "https://localhost:8080/",
          "height": 423
        },
        "id": "j3-NdKJE2npl",
        "outputId": "15597e0e-584a-4318-bf51-d4e321461e0d"
      },
      "execution_count": 56,
      "outputs": [
        {
          "output_type": "execute_result",
          "data": {
            "text/plain": [
              "     Survived  Pclass     Sex   Age  SibSp  Parch     Fare Embarked\n",
              "0           0       3    male  22.0      1      0   7.2500        S\n",
              "1           1       1  female  38.0      1      0  71.2833        C\n",
              "2           1       3  female  26.0      0      0   7.9250        S\n",
              "3           1       1  female  35.0      1      0  53.1000        S\n",
              "4           0       3    male  35.0      0      0   8.0500        S\n",
              "..        ...     ...     ...   ...    ...    ...      ...      ...\n",
              "886         0       2    male  27.0      0      0  13.0000        S\n",
              "887         1       1  female  19.0      0      0  30.0000        S\n",
              "888         0       3  female   NaN      1      2  23.4500        S\n",
              "889         1       1    male  26.0      0      0  30.0000        C\n",
              "890         0       3    male  32.0      0      0   7.7500        Q\n",
              "\n",
              "[891 rows x 8 columns]"
            ],
            "text/html": [
              "\n",
              "  <div id=\"df-b341d943-f03f-419f-a90c-f436d22e8872\">\n",
              "    <div class=\"colab-df-container\">\n",
              "      <div>\n",
              "<style scoped>\n",
              "    .dataframe tbody tr th:only-of-type {\n",
              "        vertical-align: middle;\n",
              "    }\n",
              "\n",
              "    .dataframe tbody tr th {\n",
              "        vertical-align: top;\n",
              "    }\n",
              "\n",
              "    .dataframe thead th {\n",
              "        text-align: right;\n",
              "    }\n",
              "</style>\n",
              "<table border=\"1\" class=\"dataframe\">\n",
              "  <thead>\n",
              "    <tr style=\"text-align: right;\">\n",
              "      <th></th>\n",
              "      <th>Survived</th>\n",
              "      <th>Pclass</th>\n",
              "      <th>Sex</th>\n",
              "      <th>Age</th>\n",
              "      <th>SibSp</th>\n",
              "      <th>Parch</th>\n",
              "      <th>Fare</th>\n",
              "      <th>Embarked</th>\n",
              "    </tr>\n",
              "  </thead>\n",
              "  <tbody>\n",
              "    <tr>\n",
              "      <th>0</th>\n",
              "      <td>0</td>\n",
              "      <td>3</td>\n",
              "      <td>male</td>\n",
              "      <td>22.0</td>\n",
              "      <td>1</td>\n",
              "      <td>0</td>\n",
              "      <td>7.2500</td>\n",
              "      <td>S</td>\n",
              "    </tr>\n",
              "    <tr>\n",
              "      <th>1</th>\n",
              "      <td>1</td>\n",
              "      <td>1</td>\n",
              "      <td>female</td>\n",
              "      <td>38.0</td>\n",
              "      <td>1</td>\n",
              "      <td>0</td>\n",
              "      <td>71.2833</td>\n",
              "      <td>C</td>\n",
              "    </tr>\n",
              "    <tr>\n",
              "      <th>2</th>\n",
              "      <td>1</td>\n",
              "      <td>3</td>\n",
              "      <td>female</td>\n",
              "      <td>26.0</td>\n",
              "      <td>0</td>\n",
              "      <td>0</td>\n",
              "      <td>7.9250</td>\n",
              "      <td>S</td>\n",
              "    </tr>\n",
              "    <tr>\n",
              "      <th>3</th>\n",
              "      <td>1</td>\n",
              "      <td>1</td>\n",
              "      <td>female</td>\n",
              "      <td>35.0</td>\n",
              "      <td>1</td>\n",
              "      <td>0</td>\n",
              "      <td>53.1000</td>\n",
              "      <td>S</td>\n",
              "    </tr>\n",
              "    <tr>\n",
              "      <th>4</th>\n",
              "      <td>0</td>\n",
              "      <td>3</td>\n",
              "      <td>male</td>\n",
              "      <td>35.0</td>\n",
              "      <td>0</td>\n",
              "      <td>0</td>\n",
              "      <td>8.0500</td>\n",
              "      <td>S</td>\n",
              "    </tr>\n",
              "    <tr>\n",
              "      <th>...</th>\n",
              "      <td>...</td>\n",
              "      <td>...</td>\n",
              "      <td>...</td>\n",
              "      <td>...</td>\n",
              "      <td>...</td>\n",
              "      <td>...</td>\n",
              "      <td>...</td>\n",
              "      <td>...</td>\n",
              "    </tr>\n",
              "    <tr>\n",
              "      <th>886</th>\n",
              "      <td>0</td>\n",
              "      <td>2</td>\n",
              "      <td>male</td>\n",
              "      <td>27.0</td>\n",
              "      <td>0</td>\n",
              "      <td>0</td>\n",
              "      <td>13.0000</td>\n",
              "      <td>S</td>\n",
              "    </tr>\n",
              "    <tr>\n",
              "      <th>887</th>\n",
              "      <td>1</td>\n",
              "      <td>1</td>\n",
              "      <td>female</td>\n",
              "      <td>19.0</td>\n",
              "      <td>0</td>\n",
              "      <td>0</td>\n",
              "      <td>30.0000</td>\n",
              "      <td>S</td>\n",
              "    </tr>\n",
              "    <tr>\n",
              "      <th>888</th>\n",
              "      <td>0</td>\n",
              "      <td>3</td>\n",
              "      <td>female</td>\n",
              "      <td>NaN</td>\n",
              "      <td>1</td>\n",
              "      <td>2</td>\n",
              "      <td>23.4500</td>\n",
              "      <td>S</td>\n",
              "    </tr>\n",
              "    <tr>\n",
              "      <th>889</th>\n",
              "      <td>1</td>\n",
              "      <td>1</td>\n",
              "      <td>male</td>\n",
              "      <td>26.0</td>\n",
              "      <td>0</td>\n",
              "      <td>0</td>\n",
              "      <td>30.0000</td>\n",
              "      <td>C</td>\n",
              "    </tr>\n",
              "    <tr>\n",
              "      <th>890</th>\n",
              "      <td>0</td>\n",
              "      <td>3</td>\n",
              "      <td>male</td>\n",
              "      <td>32.0</td>\n",
              "      <td>0</td>\n",
              "      <td>0</td>\n",
              "      <td>7.7500</td>\n",
              "      <td>Q</td>\n",
              "    </tr>\n",
              "  </tbody>\n",
              "</table>\n",
              "<p>891 rows × 8 columns</p>\n",
              "</div>\n",
              "      <button class=\"colab-df-convert\" onclick=\"convertToInteractive('df-b341d943-f03f-419f-a90c-f436d22e8872')\"\n",
              "              title=\"Convert this dataframe to an interactive table.\"\n",
              "              style=\"display:none;\">\n",
              "        \n",
              "  <svg xmlns=\"http://www.w3.org/2000/svg\" height=\"24px\"viewBox=\"0 0 24 24\"\n",
              "       width=\"24px\">\n",
              "    <path d=\"M0 0h24v24H0V0z\" fill=\"none\"/>\n",
              "    <path d=\"M18.56 5.44l.94 2.06.94-2.06 2.06-.94-2.06-.94-.94-2.06-.94 2.06-2.06.94zm-11 1L8.5 8.5l.94-2.06 2.06-.94-2.06-.94L8.5 2.5l-.94 2.06-2.06.94zm10 10l.94 2.06.94-2.06 2.06-.94-2.06-.94-.94-2.06-.94 2.06-2.06.94z\"/><path d=\"M17.41 7.96l-1.37-1.37c-.4-.4-.92-.59-1.43-.59-.52 0-1.04.2-1.43.59L10.3 9.45l-7.72 7.72c-.78.78-.78 2.05 0 2.83L4 21.41c.39.39.9.59 1.41.59.51 0 1.02-.2 1.41-.59l7.78-7.78 2.81-2.81c.8-.78.8-2.07 0-2.86zM5.41 20L4 18.59l7.72-7.72 1.47 1.35L5.41 20z\"/>\n",
              "  </svg>\n",
              "      </button>\n",
              "      \n",
              "  <style>\n",
              "    .colab-df-container {\n",
              "      display:flex;\n",
              "      flex-wrap:wrap;\n",
              "      gap: 12px;\n",
              "    }\n",
              "\n",
              "    .colab-df-convert {\n",
              "      background-color: #E8F0FE;\n",
              "      border: none;\n",
              "      border-radius: 50%;\n",
              "      cursor: pointer;\n",
              "      display: none;\n",
              "      fill: #1967D2;\n",
              "      height: 32px;\n",
              "      padding: 0 0 0 0;\n",
              "      width: 32px;\n",
              "    }\n",
              "\n",
              "    .colab-df-convert:hover {\n",
              "      background-color: #E2EBFA;\n",
              "      box-shadow: 0px 1px 2px rgba(60, 64, 67, 0.3), 0px 1px 3px 1px rgba(60, 64, 67, 0.15);\n",
              "      fill: #174EA6;\n",
              "    }\n",
              "\n",
              "    [theme=dark] .colab-df-convert {\n",
              "      background-color: #3B4455;\n",
              "      fill: #D2E3FC;\n",
              "    }\n",
              "\n",
              "    [theme=dark] .colab-df-convert:hover {\n",
              "      background-color: #434B5C;\n",
              "      box-shadow: 0px 1px 3px 1px rgba(0, 0, 0, 0.15);\n",
              "      filter: drop-shadow(0px 1px 2px rgba(0, 0, 0, 0.3));\n",
              "      fill: #FFFFFF;\n",
              "    }\n",
              "  </style>\n",
              "\n",
              "      <script>\n",
              "        const buttonEl =\n",
              "          document.querySelector('#df-b341d943-f03f-419f-a90c-f436d22e8872 button.colab-df-convert');\n",
              "        buttonEl.style.display =\n",
              "          google.colab.kernel.accessAllowed ? 'block' : 'none';\n",
              "\n",
              "        async function convertToInteractive(key) {\n",
              "          const element = document.querySelector('#df-b341d943-f03f-419f-a90c-f436d22e8872');\n",
              "          const dataTable =\n",
              "            await google.colab.kernel.invokeFunction('convertToInteractive',\n",
              "                                                     [key], {});\n",
              "          if (!dataTable) return;\n",
              "\n",
              "          const docLinkHtml = 'Like what you see? Visit the ' +\n",
              "            '<a target=\"_blank\" href=https://colab.research.google.com/notebooks/data_table.ipynb>data table notebook</a>'\n",
              "            + ' to learn more about interactive tables.';\n",
              "          element.innerHTML = '';\n",
              "          dataTable['output_type'] = 'display_data';\n",
              "          await google.colab.output.renderOutput(dataTable, element);\n",
              "          const docLink = document.createElement('div');\n",
              "          docLink.innerHTML = docLinkHtml;\n",
              "          element.appendChild(docLink);\n",
              "        }\n",
              "      </script>\n",
              "    </div>\n",
              "  </div>\n",
              "  "
            ]
          },
          "metadata": {},
          "execution_count": 56
        }
      ]
    },
    {
      "cell_type": "code",
      "source": [
        "def prepare_num(df):\n",
        "    df_num = df.drop(['Sex', 'Embarked', 'Pclass'], axis=1)\n",
        "    df_sex = pd.get_dummies(df['Sex'])\n",
        "    df_emb = pd.get_dummies(df['Embarked'], prefix='Emb')\n",
        "    df_pcl = pd.get_dummies(df['Pclass'], prefix='Pclass')\n",
        "\n",
        "    df_num = pd.concat((df_num, df_sex, df_emb, df_pcl), axis=1)\n",
        "    return df_num"
      ],
      "metadata": {
        "id": "UKs8mMvT2sEA"
      },
      "execution_count": 57,
      "outputs": []
    },
    {
      "cell_type": "code",
      "source": [
        "df_prep_num = prepare_num(df_prep)\n",
        "df_prep_num = df_prep_num.fillna(df_prep_num.median())\n",
        "scaler = MinMaxScaler()\n",
        "df_prep_num"
      ],
      "metadata": {
        "id": "8FwBxGDC2u63",
        "colab": {
          "base_uri": "https://localhost:8080/",
          "height": 423
        },
        "outputId": "26bddab0-55b1-4595-89b9-faa639d6f421"
      },
      "execution_count": 58,
      "outputs": [
        {
          "output_type": "execute_result",
          "data": {
            "text/plain": [
              "     Survived   Age  SibSp  Parch     Fare  female  male  Emb_C  Emb_Q  Emb_S  \\\n",
              "0           0  22.0      1      0   7.2500       0     1      0      0      1   \n",
              "1           1  38.0      1      0  71.2833       1     0      1      0      0   \n",
              "2           1  26.0      0      0   7.9250       1     0      0      0      1   \n",
              "3           1  35.0      1      0  53.1000       1     0      0      0      1   \n",
              "4           0  35.0      0      0   8.0500       0     1      0      0      1   \n",
              "..        ...   ...    ...    ...      ...     ...   ...    ...    ...    ...   \n",
              "886         0  27.0      0      0  13.0000       0     1      0      0      1   \n",
              "887         1  19.0      0      0  30.0000       1     0      0      0      1   \n",
              "888         0  28.0      1      2  23.4500       1     0      0      0      1   \n",
              "889         1  26.0      0      0  30.0000       0     1      1      0      0   \n",
              "890         0  32.0      0      0   7.7500       0     1      0      1      0   \n",
              "\n",
              "     Pclass_1  Pclass_2  Pclass_3  \n",
              "0           0         0         1  \n",
              "1           1         0         0  \n",
              "2           0         0         1  \n",
              "3           1         0         0  \n",
              "4           0         0         1  \n",
              "..        ...       ...       ...  \n",
              "886         0         1         0  \n",
              "887         1         0         0  \n",
              "888         0         0         1  \n",
              "889         1         0         0  \n",
              "890         0         0         1  \n",
              "\n",
              "[891 rows x 13 columns]"
            ],
            "text/html": [
              "\n",
              "  <div id=\"df-e16a8f79-bfcc-4a03-8bf2-e27bd07c9b78\">\n",
              "    <div class=\"colab-df-container\">\n",
              "      <div>\n",
              "<style scoped>\n",
              "    .dataframe tbody tr th:only-of-type {\n",
              "        vertical-align: middle;\n",
              "    }\n",
              "\n",
              "    .dataframe tbody tr th {\n",
              "        vertical-align: top;\n",
              "    }\n",
              "\n",
              "    .dataframe thead th {\n",
              "        text-align: right;\n",
              "    }\n",
              "</style>\n",
              "<table border=\"1\" class=\"dataframe\">\n",
              "  <thead>\n",
              "    <tr style=\"text-align: right;\">\n",
              "      <th></th>\n",
              "      <th>Survived</th>\n",
              "      <th>Age</th>\n",
              "      <th>SibSp</th>\n",
              "      <th>Parch</th>\n",
              "      <th>Fare</th>\n",
              "      <th>female</th>\n",
              "      <th>male</th>\n",
              "      <th>Emb_C</th>\n",
              "      <th>Emb_Q</th>\n",
              "      <th>Emb_S</th>\n",
              "      <th>Pclass_1</th>\n",
              "      <th>Pclass_2</th>\n",
              "      <th>Pclass_3</th>\n",
              "    </tr>\n",
              "  </thead>\n",
              "  <tbody>\n",
              "    <tr>\n",
              "      <th>0</th>\n",
              "      <td>0</td>\n",
              "      <td>22.0</td>\n",
              "      <td>1</td>\n",
              "      <td>0</td>\n",
              "      <td>7.2500</td>\n",
              "      <td>0</td>\n",
              "      <td>1</td>\n",
              "      <td>0</td>\n",
              "      <td>0</td>\n",
              "      <td>1</td>\n",
              "      <td>0</td>\n",
              "      <td>0</td>\n",
              "      <td>1</td>\n",
              "    </tr>\n",
              "    <tr>\n",
              "      <th>1</th>\n",
              "      <td>1</td>\n",
              "      <td>38.0</td>\n",
              "      <td>1</td>\n",
              "      <td>0</td>\n",
              "      <td>71.2833</td>\n",
              "      <td>1</td>\n",
              "      <td>0</td>\n",
              "      <td>1</td>\n",
              "      <td>0</td>\n",
              "      <td>0</td>\n",
              "      <td>1</td>\n",
              "      <td>0</td>\n",
              "      <td>0</td>\n",
              "    </tr>\n",
              "    <tr>\n",
              "      <th>2</th>\n",
              "      <td>1</td>\n",
              "      <td>26.0</td>\n",
              "      <td>0</td>\n",
              "      <td>0</td>\n",
              "      <td>7.9250</td>\n",
              "      <td>1</td>\n",
              "      <td>0</td>\n",
              "      <td>0</td>\n",
              "      <td>0</td>\n",
              "      <td>1</td>\n",
              "      <td>0</td>\n",
              "      <td>0</td>\n",
              "      <td>1</td>\n",
              "    </tr>\n",
              "    <tr>\n",
              "      <th>3</th>\n",
              "      <td>1</td>\n",
              "      <td>35.0</td>\n",
              "      <td>1</td>\n",
              "      <td>0</td>\n",
              "      <td>53.1000</td>\n",
              "      <td>1</td>\n",
              "      <td>0</td>\n",
              "      <td>0</td>\n",
              "      <td>0</td>\n",
              "      <td>1</td>\n",
              "      <td>1</td>\n",
              "      <td>0</td>\n",
              "      <td>0</td>\n",
              "    </tr>\n",
              "    <tr>\n",
              "      <th>4</th>\n",
              "      <td>0</td>\n",
              "      <td>35.0</td>\n",
              "      <td>0</td>\n",
              "      <td>0</td>\n",
              "      <td>8.0500</td>\n",
              "      <td>0</td>\n",
              "      <td>1</td>\n",
              "      <td>0</td>\n",
              "      <td>0</td>\n",
              "      <td>1</td>\n",
              "      <td>0</td>\n",
              "      <td>0</td>\n",
              "      <td>1</td>\n",
              "    </tr>\n",
              "    <tr>\n",
              "      <th>...</th>\n",
              "      <td>...</td>\n",
              "      <td>...</td>\n",
              "      <td>...</td>\n",
              "      <td>...</td>\n",
              "      <td>...</td>\n",
              "      <td>...</td>\n",
              "      <td>...</td>\n",
              "      <td>...</td>\n",
              "      <td>...</td>\n",
              "      <td>...</td>\n",
              "      <td>...</td>\n",
              "      <td>...</td>\n",
              "      <td>...</td>\n",
              "    </tr>\n",
              "    <tr>\n",
              "      <th>886</th>\n",
              "      <td>0</td>\n",
              "      <td>27.0</td>\n",
              "      <td>0</td>\n",
              "      <td>0</td>\n",
              "      <td>13.0000</td>\n",
              "      <td>0</td>\n",
              "      <td>1</td>\n",
              "      <td>0</td>\n",
              "      <td>0</td>\n",
              "      <td>1</td>\n",
              "      <td>0</td>\n",
              "      <td>1</td>\n",
              "      <td>0</td>\n",
              "    </tr>\n",
              "    <tr>\n",
              "      <th>887</th>\n",
              "      <td>1</td>\n",
              "      <td>19.0</td>\n",
              "      <td>0</td>\n",
              "      <td>0</td>\n",
              "      <td>30.0000</td>\n",
              "      <td>1</td>\n",
              "      <td>0</td>\n",
              "      <td>0</td>\n",
              "      <td>0</td>\n",
              "      <td>1</td>\n",
              "      <td>1</td>\n",
              "      <td>0</td>\n",
              "      <td>0</td>\n",
              "    </tr>\n",
              "    <tr>\n",
              "      <th>888</th>\n",
              "      <td>0</td>\n",
              "      <td>28.0</td>\n",
              "      <td>1</td>\n",
              "      <td>2</td>\n",
              "      <td>23.4500</td>\n",
              "      <td>1</td>\n",
              "      <td>0</td>\n",
              "      <td>0</td>\n",
              "      <td>0</td>\n",
              "      <td>1</td>\n",
              "      <td>0</td>\n",
              "      <td>0</td>\n",
              "      <td>1</td>\n",
              "    </tr>\n",
              "    <tr>\n",
              "      <th>889</th>\n",
              "      <td>1</td>\n",
              "      <td>26.0</td>\n",
              "      <td>0</td>\n",
              "      <td>0</td>\n",
              "      <td>30.0000</td>\n",
              "      <td>0</td>\n",
              "      <td>1</td>\n",
              "      <td>1</td>\n",
              "      <td>0</td>\n",
              "      <td>0</td>\n",
              "      <td>1</td>\n",
              "      <td>0</td>\n",
              "      <td>0</td>\n",
              "    </tr>\n",
              "    <tr>\n",
              "      <th>890</th>\n",
              "      <td>0</td>\n",
              "      <td>32.0</td>\n",
              "      <td>0</td>\n",
              "      <td>0</td>\n",
              "      <td>7.7500</td>\n",
              "      <td>0</td>\n",
              "      <td>1</td>\n",
              "      <td>0</td>\n",
              "      <td>1</td>\n",
              "      <td>0</td>\n",
              "      <td>0</td>\n",
              "      <td>0</td>\n",
              "      <td>1</td>\n",
              "    </tr>\n",
              "  </tbody>\n",
              "</table>\n",
              "<p>891 rows × 13 columns</p>\n",
              "</div>\n",
              "      <button class=\"colab-df-convert\" onclick=\"convertToInteractive('df-e16a8f79-bfcc-4a03-8bf2-e27bd07c9b78')\"\n",
              "              title=\"Convert this dataframe to an interactive table.\"\n",
              "              style=\"display:none;\">\n",
              "        \n",
              "  <svg xmlns=\"http://www.w3.org/2000/svg\" height=\"24px\"viewBox=\"0 0 24 24\"\n",
              "       width=\"24px\">\n",
              "    <path d=\"M0 0h24v24H0V0z\" fill=\"none\"/>\n",
              "    <path d=\"M18.56 5.44l.94 2.06.94-2.06 2.06-.94-2.06-.94-.94-2.06-.94 2.06-2.06.94zm-11 1L8.5 8.5l.94-2.06 2.06-.94-2.06-.94L8.5 2.5l-.94 2.06-2.06.94zm10 10l.94 2.06.94-2.06 2.06-.94-2.06-.94-.94-2.06-.94 2.06-2.06.94z\"/><path d=\"M17.41 7.96l-1.37-1.37c-.4-.4-.92-.59-1.43-.59-.52 0-1.04.2-1.43.59L10.3 9.45l-7.72 7.72c-.78.78-.78 2.05 0 2.83L4 21.41c.39.39.9.59 1.41.59.51 0 1.02-.2 1.41-.59l7.78-7.78 2.81-2.81c.8-.78.8-2.07 0-2.86zM5.41 20L4 18.59l7.72-7.72 1.47 1.35L5.41 20z\"/>\n",
              "  </svg>\n",
              "      </button>\n",
              "      \n",
              "  <style>\n",
              "    .colab-df-container {\n",
              "      display:flex;\n",
              "      flex-wrap:wrap;\n",
              "      gap: 12px;\n",
              "    }\n",
              "\n",
              "    .colab-df-convert {\n",
              "      background-color: #E8F0FE;\n",
              "      border: none;\n",
              "      border-radius: 50%;\n",
              "      cursor: pointer;\n",
              "      display: none;\n",
              "      fill: #1967D2;\n",
              "      height: 32px;\n",
              "      padding: 0 0 0 0;\n",
              "      width: 32px;\n",
              "    }\n",
              "\n",
              "    .colab-df-convert:hover {\n",
              "      background-color: #E2EBFA;\n",
              "      box-shadow: 0px 1px 2px rgba(60, 64, 67, 0.3), 0px 1px 3px 1px rgba(60, 64, 67, 0.15);\n",
              "      fill: #174EA6;\n",
              "    }\n",
              "\n",
              "    [theme=dark] .colab-df-convert {\n",
              "      background-color: #3B4455;\n",
              "      fill: #D2E3FC;\n",
              "    }\n",
              "\n",
              "    [theme=dark] .colab-df-convert:hover {\n",
              "      background-color: #434B5C;\n",
              "      box-shadow: 0px 1px 3px 1px rgba(0, 0, 0, 0.15);\n",
              "      filter: drop-shadow(0px 1px 2px rgba(0, 0, 0, 0.3));\n",
              "      fill: #FFFFFF;\n",
              "    }\n",
              "  </style>\n",
              "\n",
              "      <script>\n",
              "        const buttonEl =\n",
              "          document.querySelector('#df-e16a8f79-bfcc-4a03-8bf2-e27bd07c9b78 button.colab-df-convert');\n",
              "        buttonEl.style.display =\n",
              "          google.colab.kernel.accessAllowed ? 'block' : 'none';\n",
              "\n",
              "        async function convertToInteractive(key) {\n",
              "          const element = document.querySelector('#df-e16a8f79-bfcc-4a03-8bf2-e27bd07c9b78');\n",
              "          const dataTable =\n",
              "            await google.colab.kernel.invokeFunction('convertToInteractive',\n",
              "                                                     [key], {});\n",
              "          if (!dataTable) return;\n",
              "\n",
              "          const docLinkHtml = 'Like what you see? Visit the ' +\n",
              "            '<a target=\"_blank\" href=https://colab.research.google.com/notebooks/data_table.ipynb>data table notebook</a>'\n",
              "            + ' to learn more about interactive tables.';\n",
              "          element.innerHTML = '';\n",
              "          dataTable['output_type'] = 'display_data';\n",
              "          await google.colab.output.renderOutput(dataTable, element);\n",
              "          const docLink = document.createElement('div');\n",
              "          docLink.innerHTML = docLinkHtml;\n",
              "          element.appendChild(docLink);\n",
              "        }\n",
              "      </script>\n",
              "    </div>\n",
              "  </div>\n",
              "  "
            ]
          },
          "metadata": {},
          "execution_count": 58
        }
      ]
    },
    {
      "cell_type": "code",
      "source": [
        "# отдаем 60% на train, 20% на validate,20% на test\n",
        "train, validate, test = np.split(df_prep_num.sample(frac=1, random_state=10),\n",
        "                                 [int(.7 * len(df_prep_num)), int(.8 * len(df_prep_num))])\n",
        "train_x = train.drop('Survived', axis=1)\n",
        "train_y = train\n",
        "\n",
        "validate_x = validate.drop('Survived', axis=1)\n",
        "validate_y = validate\n",
        "\n",
        "test_x = test.drop('Survived', axis=1)\n",
        "test_y = test"
      ],
      "metadata": {
        "id": "DJbaEFG12zIx"
      },
      "execution_count": 59,
      "outputs": []
    },
    {
      "cell_type": "code",
      "source": [
        "# подбор гиперпараметров для RandomForest\n",
        "\n",
        "crit = (\"gini\", \"entropy\")\n",
        "acc_0 = 0\n",
        "cr_0 = \" \"\n",
        "est_0 = 0\n",
        "dep = 0\n",
        "for cr in crit:\n",
        "    for estimators in range(10, 51):\n",
        "        for depth in range(1, 11):\n",
        "            model = RandomForestClassifier(n_estimators=estimators, max_depth=depth, criterion=cr)\n",
        "            model.fit(train_x, train_y['Survived'])\n",
        "            predict = model.predict(validate_x)\n",
        "            acc = accuracy_score(validate_y['Survived'], predict)\n",
        "            if acc_0 < acc:\n",
        "                acc_0 = acc\n",
        "                cr_0 = cr\n",
        "                est_0 = estimators\n",
        "                dep = depth\n",
        "\n",
        "print(\"RandomForest\")\n",
        "print(\"criterion: \",cr_0)\n",
        "print(\"n_estimators: \",est_0)\n",
        "print(\"max_depth: \",dep)\n",
        "print(\"accuracy validation: \",acc_0)"
      ],
      "metadata": {
        "id": "fpyLULy522RU",
        "colab": {
          "base_uri": "https://localhost:8080/"
        },
        "outputId": "8f24e41b-f027-408e-edce-ec8113444f8d"
      },
      "execution_count": 60,
      "outputs": [
        {
          "output_type": "stream",
          "name": "stdout",
          "text": [
            "RandomForest\n",
            "criterion:  gini\n",
            "n_estimators:  13\n",
            "max_depth:  8\n",
            "accuracy validation:  0.898876404494382\n"
          ]
        }
      ]
    },
    {
      "cell_type": "code",
      "source": [
        "model = RandomForestClassifier(n_estimators=est_0, max_depth=dep, criterion=cr_0)\n",
        "model.fit(train_x, train_y['Survived'])\n",
        "predict = model.predict(test_x)\n",
        "acc = accuracy_score(test_y['Survived'], predict)"
      ],
      "metadata": {
        "id": "MXdmLaq_28Jo"
      },
      "execution_count": 61,
      "outputs": []
    },
    {
      "cell_type": "code",
      "source": [
        "print(\"accuracy test: \",acc)\n",
        "print(acc)\n"
      ],
      "metadata": {
        "id": "CtoNBwSI3ALW",
        "colab": {
          "base_uri": "https://localhost:8080/"
        },
        "outputId": "6504beb0-458a-4708-d731-91762233723b"
      },
      "execution_count": 62,
      "outputs": [
        {
          "output_type": "stream",
          "name": "stdout",
          "text": [
            "accuracy test:  0.8324022346368715\n",
            "0.8324022346368715\n"
          ]
        }
      ]
    },
    {
      "cell_type": "markdown",
      "source": [
        "2.С помощью RandomForest выберите 2, 4, 8 самых важных признаков и проверьте точность моделей только на этих признаках."
      ],
      "metadata": {
        "id": "OLx451RzTYhl"
      }
    },
    {
      "cell_type": "code",
      "source": [
        "df_prep_num_s = df_prep_num.drop(\"Survived\",axis=1)\n",
        "model = RandomForestClassifier(n_estimators=est_0, max_depth=dep, criterion=cr_0)\n",
        "model.fit(train_x, train_y['Survived'])\n",
        "importances = model.feature_importances_\n",
        "features = df_prep_num_s.columns\n",
        "# Добавление сортировки по важности\n",
        "indices = np.argsort(importances)\n",
        "\n",
        "plt.title('Важность признаков')\n",
        "plt.barh(range(len(indices)), importances[indices], color='b', align='center')\n",
        "plt.yticks(range(len(indices)), features[indices])\n",
        "plt.xlabel('Относительная важность')\n",
        "plt.show()\n",
        "\n"
      ],
      "metadata": {
        "colab": {
          "base_uri": "https://localhost:8080/",
          "height": 295
        },
        "id": "jIcHBqbiTXls",
        "outputId": "8ea81ae4-f470-4298-c880-c643e6018a3c"
      },
      "execution_count": 63,
      "outputs": [
        {
          "output_type": "display_data",
          "data": {
            "text/plain": [
              "<Figure size 432x288 with 1 Axes>"
            ],
            "image/png": "[encoded data removed]"
          },
          "metadata": {
            "needs_background": "light"
          }
        }
      ]
    },
    {
      "cell_type": "code",
      "source": [
        "def n_important_signs(n):\n",
        "  important_2 = df_prep_num[features[indices][-n:]]\n",
        "  train_f2, validate_f2, test_f2 = np.split(important_2.sample(frac=1, random_state=10),\n",
        "                                 [int(.7 * len(important_2)), int(.8 * len(important_2))])\n",
        "# df_prep_num_su =df_prep_num[features[indices][::-3][:2]] \n",
        "  train_fx = train_f2\n",
        "  train_fy = train_y['Survived']\n",
        "\n",
        "  validate_fx = validate_f2\n",
        "  validate_fy = validate_y['Survived']\n",
        "\n",
        "  test_fx = test_f2\n",
        "  test_fy = test_y['Survived']\n",
        "\n",
        "# scl_important_2 = scaler.fit_transform(important_2)\n",
        "  model.fit(train_fx,train_fy)\n",
        "  predict = model.predict(test_f2)\n",
        "  acc = accuracy_score(test_fy, predict)\n",
        "  return acc\n",
        "  # print(\"Accuracy: {:.2%}\".format(acc))\n"
      ],
      "metadata": {
        "id": "qlc4Nn2-YZam"
      },
      "execution_count": 64,
      "outputs": []
    },
    {
      "cell_type": "markdown",
      "source": [
        "Точность модели по двум важным признакам"
      ],
      "metadata": {
        "id": "o4bbISZ_8eBL"
      }
    },
    {
      "cell_type": "code",
      "source": [
        "acc = n_important_signs(2)\n",
        "print(\"Accuracy: {:.2%}\".format(acc))"
      ],
      "metadata": {
        "id": "RdhLoPt5YZIb",
        "colab": {
          "base_uri": "https://localhost:8080/"
        },
        "outputId": "86606d01-987f-4f84-c5e9-7715b8996a5d"
      },
      "execution_count": 65,
      "outputs": [
        {
          "output_type": "stream",
          "name": "stdout",
          "text": [
            "Accuracy: 79.89%\n"
          ]
        }
      ]
    },
    {
      "cell_type": "markdown",
      "source": [
        "Точность модели по четырем важным признакам"
      ],
      "metadata": {
        "id": "9Vj55V-g8yLB"
      }
    },
    {
      "cell_type": "code",
      "source": [
        "acc = n_important_signs(4)\n",
        "print(\"Accuracy: {:.2%}\".format(acc))"
      ],
      "metadata": {
        "colab": {
          "base_uri": "https://localhost:8080/"
        },
        "id": "Rww5eb1o8wr-",
        "outputId": "914175ee-ae5c-47c9-9e6f-6fea37e69e23"
      },
      "execution_count": 66,
      "outputs": [
        {
          "output_type": "stream",
          "name": "stdout",
          "text": [
            "Accuracy: 82.12%\n"
          ]
        }
      ]
    },
    {
      "cell_type": "markdown",
      "source": [
        "Точность модели по восьми важным признакам"
      ],
      "metadata": {
        "id": "zllIk3t-8v3i"
      }
    },
    {
      "cell_type": "code",
      "source": [
        "acc = n_important_signs(8)\n",
        "print(\"Accuracy: {:.2%}\".format(acc))"
      ],
      "metadata": {
        "colab": {
          "base_uri": "https://localhost:8080/"
        },
        "id": "BAcel65I8vZ1",
        "outputId": "c477f7bd-c666-4be8-f5b9-e0fd98d2f51e"
      },
      "execution_count": 67,
      "outputs": [
        {
          "output_type": "stream",
          "name": "stdout",
          "text": [
            "Accuracy: 82.12%\n"
          ]
        }
      ]
    },
    {
      "cell_type": "code",
      "source": [
        "# подбор гиперпараметров для XGBoost\n",
        "acc_0 = 0\n",
        "est_0 = 0\n",
        "dep = 0\n",
        "for estimators in range(1,20):\n",
        "  for depth in range(1,10):\n",
        "    model = XGBClassifier(n_estimators=estimators, max_depth=depth)\n",
        "    model.fit(train_x, train_y['Survived'])\n",
        "    predict = model.predict(validate_x)\n",
        "    acc = accuracy_score(validate_y['Survived'], predict)\n",
        "    if acc_0 < acc:\n",
        "      acc_0 = acc\n",
        "      est_0 = estimators\n",
        "      dep = depth\n",
        "\n",
        "print(\"XGBoost\")\n",
        "print(\"n_estimators: \",est_0)\n",
        "print(\"max_depth: \",dep)\n",
        "print(\"accuracy validation: \",acc_0)"
      ],
      "metadata": {
        "id": "VsdNfDrf6Dgz",
        "colab": {
          "base_uri": "https://localhost:8080/"
        },
        "outputId": "e9294bbb-8d5f-4b31-ff41-93132cc109b4"
      },
      "execution_count": 68,
      "outputs": [
        {
          "output_type": "stream",
          "name": "stdout",
          "text": [
            "XGBoost\n",
            "n_estimators:  11\n",
            "max_depth:  5\n",
            "accuracy validation:  0.8876404494382022\n"
          ]
        }
      ]
    },
    {
      "cell_type": "code",
      "source": [
        "model = XGBClassifier(n_estimators=estimators, max_depth=depth)\n",
        "model.fit(train_x, train_y['Survived'])\n",
        "predict = model.predict(test_x)\n",
        "acc = accuracy_score(test_y['Survived'], predict)\n",
        "print(\"accuracy test: \",acc)\n",
        "print()"
      ],
      "metadata": {
        "id": "wCulc2h1Mv85",
        "colab": {
          "base_uri": "https://localhost:8080/"
        },
        "outputId": "3cbc8ce8-c5f3-4754-ce80-25193272d7e6"
      },
      "execution_count": 69,
      "outputs": [
        {
          "output_type": "stream",
          "name": "stdout",
          "text": [
            "accuracy test:  0.8379888268156425\n",
            "\n"
          ]
        }
      ]
    },
    {
      "cell_type": "code",
      "source": [
        "import warnings\n",
        "warnings.filterwarnings(\"ignore\")\n",
        "\n",
        "\n",
        "# подбор гиперпараметров для LogisticRegression\n",
        "solv = (\"lbfgs\", \"liblinear\", \"newton-cg\", \"sag\", \"saga\")\n",
        "сс = [x/100 for x in range(10, 101, 1)]\n",
        "c_0 = 0\n",
        "sol_0 = \" \"\n",
        "for c in сс:\n",
        "  for sol in solv:\n",
        "    model = LogisticRegression(C=c, solver=sol)\n",
        "    model.fit(train_x, train_y['Survived'])\n",
        "    predict = model.predict(validate_x)\n",
        "    acc = accuracy_score(validate_y['Survived'], predict)\n",
        "    if acc_0 < acc:\n",
        "      sol_0 = sol\n",
        "      c_0 = c\n",
        "\n",
        "print(\"LogisticRegression\")\n",
        "print(\"c: \",c_0)\n",
        "print(\"solver: \",sol_0)\n",
        "print(\"accuracy validation: \",acc_0)"
      ],
      "metadata": {
        "id": "MI7cksJEOki2",
        "colab": {
          "base_uri": "https://localhost:8080/"
        },
        "outputId": "8fe23a8b-111f-4d40-c4e6-c816851a9f22"
      },
      "execution_count": 70,
      "outputs": [
        {
          "output_type": "stream",
          "name": "stdout",
          "text": [
            "LogisticRegression\n",
            "c:  0\n",
            "solver:   \n",
            "accuracy validation:  0.8876404494382022\n"
          ]
        }
      ]
    },
    {
      "cell_type": "code",
      "source": [
        "model = LogisticRegression(C=c, solver=sol)\n",
        "model.fit(train_x, train_y['Survived'])\n",
        "predict = model.predict(test_x)\n",
        "acc = accuracy_score(test_y['Survived'], predict)\n",
        "\n",
        "print(\"accuracy test: \",acc)\n",
        "print()"
      ],
      "metadata": {
        "id": "G2NiQcGYUAf_",
        "colab": {
          "base_uri": "https://localhost:8080/"
        },
        "outputId": "d66d0851-9be7-4df8-aaaf-b1fb7b0e1a25"
      },
      "execution_count": 71,
      "outputs": [
        {
          "output_type": "stream",
          "name": "stdout",
          "text": [
            "accuracy test:  0.6312849162011173\n",
            "\n"
          ]
        }
      ]
    },
    {
      "cell_type": "code",
      "source": [
        "# метод ближайших соседей\n",
        "# alg = (\"auto\", \"ball_tree\", \"kd_tree\", \"brute\")\n",
        "# alg_0 = \" \"\n",
        "# neib_0 = 0\n",
        "# leaf_0 = 0\n",
        "# acc_0 = 0\n",
        "# for neib in range(1,20):\n",
        "#   for algo in alg:\n",
        "#     for leaf in range(1,50):\n",
        "\n",
        "model = KNeighborsClassifier()\n",
        "model.fit(train_x, train_y['Survived'])\n",
        "predict = model.predict(validate_x)\n",
        "acc = accuracy_score(validate_y['Survived'], predict)\n",
        "      # if acc_0 < acc:\n",
        "      #   acc_0 = acc\n",
        "      #   neib_0 = neib\n",
        "      #   alg_0 = algo\n",
        "      #   leaf_0 = leaf\n",
        "\n",
        "# print(alg_0)\n",
        "# print(neib_0)\n",
        "# print(leaf_0)\n",
        "print(\"KNN\")\n",
        "print(\"accuracy validation: \",acc)"
      ],
      "metadata": {
        "id": "gAx0NQsFrEl-",
        "colab": {
          "base_uri": "https://localhost:8080/"
        },
        "outputId": "35e3f6dd-a3df-4c51-c0c0-22da984dbded"
      },
      "execution_count": 72,
      "outputs": [
        {
          "output_type": "stream",
          "name": "stdout",
          "text": [
            "KNN\n",
            "accuracy validation:  0.7303370786516854\n"
          ]
        }
      ]
    },
    {
      "cell_type": "code",
      "source": [
        "model = KNeighborsClassifier()\n",
        "model.fit(train_x, train_y['Survived'])\n",
        "predict = model.predict(test_x)\n",
        "acc = accuracy_score(test_y['Survived'], predict)\n",
        "\n",
        "\n",
        "print(\"accuracy validation: \",acc)"
      ],
      "metadata": {
        "colab": {
          "base_uri": "https://localhost:8080/"
        },
        "id": "4-FkIJqhVHre",
        "outputId": "29bca57a-5924-4cec-f2be-ae50c08fc10c"
      },
      "execution_count": 73,
      "outputs": [
        {
          "output_type": "stream",
          "name": "stdout",
          "text": [
            "accuracy validation:  0.6815642458100558\n"
          ]
        }
      ]
    },
    {
      "cell_type": "markdown",
      "source": [
        "3.Используя координаты скважин из файла wells_info.csv разделите их на кластера с помощью любых 4 методов и отобразите разделение. Параметры подбираются самостоятельно."
      ],
      "metadata": {
        "id": "W8gtQLrAC8wy"
      }
    },
    {
      "cell_type": "code",
      "source": [
        "from sklearn.cluster import SpectralClustering,Birch,MeanShift,KMeans\n",
        "wells_info = pd.read_csv(\"/content/wells_info.csv\")\n",
        "coordinates = np.array(wells_info[[\"BottomHoleLatitude\", \"BottomHoleLongitude\"]])\n",
        "\n",
        "def showClusters(model, data):\n",
        "    clusters = model.fit_predict(data)\n",
        "    for cl in clusters:\n",
        "        _data = data[clusters==cl]\n",
        "        plt.scatter(_data[:, 0], _data[:, 1])\n",
        "    plt.show()"
      ],
      "metadata": {
        "id": "J0tDKIdZVZf1"
      },
      "execution_count": 74,
      "outputs": []
    },
    {
      "cell_type": "markdown",
      "source": [
        "SpectralClustering"
      ],
      "metadata": {
        "id": "qKcpM5CPGyWj"
      }
    },
    {
      "cell_type": "code",
      "source": [
        "model = SpectralClustering()\n",
        "showClusters(model,coordinates)"
      ],
      "metadata": {
        "colab": {
          "base_uri": "https://localhost:8080/",
          "height": 265
        },
        "id": "NXaPiaFXDNmQ",
        "outputId": "83d1ad7e-2dcf-4597-a22c-56c10e714d44"
      },
      "execution_count": 75,
      "outputs": [
        {
          "output_type": "display_data",
          "data": {
            "text/plain": [
              "<Figure size 432x288 with 1 Axes>"
            ],
            "image/png": "[encoded data removed]"
          },
          "metadata": {
            "needs_background": "light"
          }
        }
      ]
    },
    {
      "cell_type": "markdown",
      "source": [
        "Birch"
      ],
      "metadata": {
        "id": "Fvv4EAjNb1Ab"
      }
    },
    {
      "cell_type": "code",
      "source": [
        "model = Birch(n_clusters=5, threshold=0.7)\n",
        "showClusters(model,coordinates)"
      ],
      "metadata": {
        "colab": {
          "base_uri": "https://localhost:8080/",
          "height": 265
        },
        "id": "F3hZ7rycFFhv",
        "outputId": "ad5555bf-ba66-41fe-b01e-db0276c76923"
      },
      "execution_count": 76,
      "outputs": [
        {
          "output_type": "display_data",
          "data": {
            "text/plain": [
              "<Figure size 432x288 with 1 Axes>"
            ],
            "image/png": "[encoded data removed]"
          },
          "metadata": {
            "needs_background": "light"
          }
        }
      ]
    },
    {
      "cell_type": "markdown",
      "source": [
        "Meanshift"
      ],
      "metadata": {
        "id": "ObzbO34Kb4yP"
      }
    },
    {
      "cell_type": "code",
      "source": [
        "model = MeanShift()\n",
        "showClusters(model, coordinates)"
      ],
      "metadata": {
        "colab": {
          "base_uri": "https://localhost:8080/",
          "height": 265
        },
        "id": "nz57qsLSJP3O",
        "outputId": "d31faf27-6c33-453d-9b03-8a3bc92297e7"
      },
      "execution_count": 77,
      "outputs": [
        {
          "output_type": "display_data",
          "data": {
            "text/plain": [
              "<Figure size 432x288 with 1 Axes>"
            ],
            "image/png": "[encoded data removed]"
          },
          "metadata": {
            "needs_background": "light"
          }
        }
      ]
    },
    {
      "cell_type": "markdown",
      "source": [
        "KMean"
      ],
      "metadata": {
        "id": "K_8hr6vneloS"
      }
    },
    {
      "cell_type": "code",
      "source": [
        "model = KMeans(n_clusters=5, n_init='auto')\n",
        "showClusters(model, coordinates)"
      ],
      "metadata": {
        "colab": {
          "base_uri": "https://localhost:8080/",
          "height": 265
        },
        "id": "1uJxVvXXcVm1",
        "outputId": "117dfcda-f9a7-4319-c5fa-5d79856e31a0"
      },
      "execution_count": 78,
      "outputs": [
        {
          "output_type": "display_data",
          "data": {
            "text/plain": [
              "<Figure size 432x288 with 1 Axes>"
            ],
            "image/png": "[encoded data removed]"
          },
          "metadata": {
            "needs_background": "light"
          }
        }
      ]
    },
    {
      "cell_type": "markdown",
      "source": [
        "4.Приведите отобранные в 6.1 задании признаки из файла wells_info_with_prod.csv в двумерное пространство. Выделите цветом добычу с этой скважины."
      ],
      "metadata": {
        "id": "KHuvn76Rlxx1"
      }
    },
    {
      "cell_type": "code",
      "source": [
        "from sklearn.manifold import TSNE\n",
        "from sklearn.preprocessing import MinMaxScaler\n",
        "import matplotlib.pyplot as plt\n",
        "\n",
        "wells_p = pd.read_csv(\"/content/wells_info_with_prod.csv\")\n",
        "selected_wells = wells_p[[\"Prod1Year\"]]\n",
        "wells_p.CompletionDate = pd.to_datetime(wells_p.CompletionDate)\n",
        "wells_date = wells_p.CompletionDate.dt.dayofyear\n",
        "selected_wells = pd.concat((wells_date,selected_wells, pd.get_dummies(wells_p.formation), pd.get_dummies(wells_p.StateName)), axis=1)\n",
        "scaled_wells = MinMaxScaler().fit_transform(selected_wells)\n",
        "\n",
        "\n",
        "\n",
        "model = TSNE(n_components=2)\n",
        "data = model.fit_transform(scaled_wells)\n",
        "\n",
        "plt.figure(figsize=(6,6))\n",
        "plt.scatter(data[:, 0], data[:, 1], marker='o')\n",
        "plt.show()"
      ],
      "metadata": {
        "colab": {
          "base_uri": "https://localhost:8080/",
          "height": 374
        },
        "id": "Qvb493utezaV",
        "outputId": "4d95806c-170d-4c7b-dd6b-b798a50b2a09"
      },
      "execution_count": 79,
      "outputs": [
        {
          "output_type": "display_data",
          "data": {
            "text/plain": [
              "<Figure size 432x432 with 1 Axes>"
            ],
            "image/png": "[encoded data removed]"
          },
          "metadata": {
            "needs_background": "light"
          }
        }
      ]
    },
    {
      "cell_type": "code",
      "source": [],
      "metadata": {
        "id": "ZtKBdBnZmlV0"
      },
      "execution_count": 79,
      "outputs": []
    }
  ]
}