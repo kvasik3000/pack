{
  "nbformat": 4,
  "nbformat_minor": 0,
  "metadata": {
    "colab": {
      "provenance": []
    },
    "kernelspec": {
      "name": "python3",
      "display_name": "Python 3"
    },
    "language_info": {
      "name": "python"
    }
  },
  "cells": [
    {
      "cell_type": "code",
      "execution_count": 77,
      "metadata": {
        "colab": {
          "base_uri": "https://localhost:8080/"
        },
        "id": "ilwz_PQvRhbN",
        "outputId": "39655417-7c03-4e5b-befc-8420623c0327"
      },
      "outputs": [
        {
          "output_type": "stream",
          "name": "stdout",
          "text": [
            "Looking in indexes: https://pypi.org/simple, https://us-python.pkg.dev/colab-wheels/public/simple/\n",
            "Requirement already satisfied: torch in /usr/local/lib/python3.8/dist-packages (1.13.1+cu116)\n",
            "Requirement already satisfied: typing-extensions in /usr/local/lib/python3.8/dist-packages (from torch) (4.5.0)\n"
          ]
        }
      ],
      "source": [
        "pip install torch"
      ]
    },
    {
      "cell_type": "code",
      "source": [
        "import torch"
      ],
      "metadata": {
        "id": "6P6KNHzoSlTu"
      },
      "execution_count": 78,
      "outputs": []
    },
    {
      "cell_type": "markdown",
      "source": [
        "Task 14.1\n"
      ],
      "metadata": {
        "id": "ulohCTnYrAin"
      }
    },
    {
      "cell_type": "code",
      "source": [
        "import torch.nn as nn"
      ],
      "metadata": {
        "id": "CMD36QGGdBh4"
      },
      "execution_count": 79,
      "outputs": []
    },
    {
      "cell_type": "code",
      "source": [
        "\n",
        "inp = torch.tensor([[[1,-1,0],[2,0,1],[1,1,0]],\n",
        "                   [[2,0,1],[4,0,2],[2,0,1]],\n",
        "                   [[1,1,0],[2,0,1],[1,-1,0]]],dtype=torch.float32)\n",
        "\n",
        "inp2 = torch.tensor([[[1,0,1],[0,-1,-1]],\n",
        "                      [[0,-1,0],[1,0,0]]],dtype=torch.float32).reshape(3,2,2)\n",
        "\n",
        "conv = nn.Conv2d(in_channels=3,out_channels=1,kernel_size=2,padding = 1,stride = 1,dilation = 2)\n",
        "\n",
        "res = conv(inp)\n",
        "res2 = conv(inp2)\n",
        "print(\"input matrix(3,3,3): \",res)\n",
        "print(\"--------------------------------------------------------------------\")\n",
        "print(\"input matrix(3,2,2): \",res2)"
      ],
      "metadata": {
        "colab": {
          "base_uri": "https://localhost:8080/"
        },
        "id": "ENuo6Ieuf7vZ",
        "outputId": "9f34b9a4-4f59-4877-cf8f-9b4fde451de8"
      },
      "execution_count": 80,
      "outputs": [
        {
          "output_type": "stream",
          "name": "stdout",
          "text": [
            "input matrix(3,3,3):  tensor([[[-0.2243, -1.8900, -0.2243],\n",
            "         [-0.4669, -1.4928, -0.0481],\n",
            "         [-0.2243, -1.2624, -0.2243]]], grad_fn=<SqueezeBackward1>)\n",
            "--------------------------------------------------------------------\n",
            "input matrix(3,2,2):  tensor([[[-0.1561, -0.4127],\n",
            "         [-0.2376, -0.0374]]], grad_fn=<SqueezeBackward1>)\n"
          ]
        }
      ]
    },
    {
      "cell_type": "markdown",
      "source": [
        "Task 14.2"
      ],
      "metadata": {
        "id": "dFc85UftwfA7"
      }
    },
    {
      "cell_type": "code",
      "source": [
        "class Layers:\n",
        "  def __init__(self,kernel_size,padding,stride,dilation):\n",
        "    self.kernel_size = kernel_size\n",
        "    self.padding = padding\n",
        "    self.stride = stride\n",
        "    self.dilation = dilation\n",
        "\n",
        "\n",
        "\n",
        "\n",
        "  def receptive_field(layers):\n",
        "    S,r = 1,1\n",
        "    for layer in layers:\n",
        "          S *= layer.stride\n",
        "          r += layer.dilation * (layer.kernel_size - 1) * S\n",
        "    return r\n",
        "\n",
        "layers = [Layers(7,3,1,1),Layers(3,1,2,1),Layers(2,0,2,1),Layers(3,100500,1,2),Layers(3,28,3,1)]\n",
        "\n",
        "\n",
        "Layers.receptive_field(layers)\n",
        "\n",
        "\n"
      ],
      "metadata": {
        "colab": {
          "base_uri": "https://localhost:8080/"
        },
        "id": "aHQBckdUwd-8",
        "outputId": "ae4ef4bd-7577-4761-e2ab-f90cdc2f54cd"
      },
      "execution_count": 81,
      "outputs": [
        {
          "output_type": "execute_result",
          "data": {
            "text/plain": [
              "55"
            ]
          },
          "metadata": {},
          "execution_count": 81
        }
      ]
    },
    {
      "cell_type": "markdown",
      "source": [
        "TAsk 14.3"
      ],
      "metadata": {
        "id": "JY4sTog_3zDf"
      }
    },
    {
      "cell_type": "code",
      "source": [
        "from torch.nn.modules.activation import LeakyReLU\n",
        "def forward(matrix,layers):\n",
        "  for layer in layers:\n",
        "    matrix = layer(matrix)\n",
        "  return matrix\n",
        "\n",
        "layers = nn.ModuleList([nn.Conv2d(in_channels=1,out_channels=1,kernel_size=7,padding=3,stride=2,dilation=1),\n",
        "                       nn.Conv2d(in_channels=1,out_channels=1,kernel_size=2,padding=1,stride=1,dilation=1),\n",
        "                       nn.MaxPool2d(kernel_size=2,padding=0,stride=2,dilation=1),\n",
        "                       nn.Conv2d(in_channels=1,out_channels=1,kernel_size=3,padding=1,stride=2,dilation=3)])\n",
        "image = torch.randn(1,224,224)\n",
        "print(layers)\n",
        "print(\"---------------------------------------------------------------------\")\n",
        "forward(image,layers).size()"
      ],
      "metadata": {
        "id": "pWto1933g4Un",
        "colab": {
          "base_uri": "https://localhost:8080/"
        },
        "outputId": "6e2de3f3-5d67-432d-9fe8-d037644ff819"
      },
      "execution_count": 82,
      "outputs": [
        {
          "output_type": "stream",
          "name": "stdout",
          "text": [
            "ModuleList(\n",
            "  (0): Conv2d(1, 1, kernel_size=(7, 7), stride=(2, 2), padding=(3, 3))\n",
            "  (1): Conv2d(1, 1, kernel_size=(2, 2), stride=(1, 1), padding=(1, 1))\n",
            "  (2): MaxPool2d(kernel_size=2, stride=2, padding=0, dilation=1, ceil_mode=False)\n",
            "  (3): Conv2d(1, 1, kernel_size=(3, 3), stride=(2, 2), padding=(1, 1), dilation=(3, 3))\n",
            ")\n",
            "---------------------------------------------------------------------\n"
          ]
        },
        {
          "output_type": "execute_result",
          "data": {
            "text/plain": [
              "torch.Size([1, 26, 26])"
            ]
          },
          "metadata": {},
          "execution_count": 82
        }
      ]
    },
    {
      "cell_type": "code",
      "source": [],
      "metadata": {
        "id": "yvQP6nLQ6hke"
      },
      "execution_count": 82,
      "outputs": []
    }
  ]
}